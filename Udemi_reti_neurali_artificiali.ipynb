{
  "nbformat": 4,
  "nbformat_minor": 0,
  "metadata": {
    "colab": {
      "name": "Udemi_reti_neurali_artificiali.ipynb",
      "provenance": [],
      "authorship_tag": "ABX9TyPe7RN//T7SFmSQtvZ2j5Bw",
      "include_colab_link": true
    },
    "kernelspec": {
      "name": "python3",
      "display_name": "Python 3"
    }
  },
  "cells": [
    {
      "cell_type": "markdown",
      "metadata": {
        "id": "view-in-github",
        "colab_type": "text"
      },
      "source": [
        "<a href=\"https://colab.research.google.com/github/zideric/colab/blob/main/Udemi_reti_neurali_artificiali.ipynb\" target=\"_parent\"><img src=\"https://colab.research.google.com/assets/colab-badge.svg\" alt=\"Open In Colab\"/></a>"
      ]
    },
    {
      "cell_type": "code",
      "metadata": {
        "id": "5CAG374Y7zKu"
      },
      "source": [
        ""
      ],
      "execution_count": null,
      "outputs": []
    },
    {
      "cell_type": "markdown",
      "metadata": {
        "id": "g-pGznv874Nc"
      },
      "source": [
        "# Reti neurali artificiali\n",
        "\n",
        "utilizziamo il dataset dei tumori al seno\n",
        "\n",
        "importiamo i vari moduli"
      ]
    },
    {
      "cell_type": "code",
      "metadata": {
        "id": "un_wolGN7_Jz"
      },
      "source": [
        "import pandas as pd\n",
        "\n",
        "from sklearn.model_selection import train_test_split\n",
        "from sklearn.preprocessing import StandardScaler\n",
        "from sklearn.preprocessing import LabelEncoder\n",
        "\n",
        "from keras.models import Sequential\n",
        "from keras.layers import Dense\n",
        "from keras.initializers import RandomUniform"
      ],
      "execution_count": null,
      "outputs": []
    },
    {
      "cell_type": "markdown",
      "metadata": {
        "id": "AoHq1E6Y8TCB"
      },
      "source": [
        "importiamo il dataset usando pandas"
      ]
    },
    {
      "cell_type": "code",
      "metadata": {
        "colab": {
          "base_uri": "https://localhost:8080/",
          "height": 241
        },
        "id": "K2xa4Ay08It1",
        "outputId": "c1adaec2-b772-4377-9561-1b4d7d5bca4e"
      },
      "source": [
        "breast_cancer = pd.read_csv(\"https://archive.ics.uci.edu/ml/machine-learning-databases/breast-cancer-wisconsin/wdbc.data\",\n",
        "                           names=[\"id\",\"diagnosis\",\"radius_mean\",\"texture_mean\",\"perimeter_mean\",\"area_mean\",\"smoothness_mean\",\"compactness_mean\",\"concavity_mean\",\"concave points_mean\",\"symmetry_mean\",\"fractal_dimension_mean\",\"radius_se\",\"texture_se\",\"perimeter_se\",\"area_se\",\"smoothness_se\",\"compactness_se\",\"concavity_se\",\"concave points_se\",\"symmetry_se\",\"fractal_dimension_se\",\"radius_worst\",\"texture_worst\",\"perimeter_worst\",\"area_worst\",\"smoothness_worst\",\"compactness_worst\",\"concavity_worst\",\"concave points_worst\",\"symmetry_worst\",\"fractal_dimension_worst\"])\n",
        "\n",
        "breast_cancer.head()"
      ],
      "execution_count": null,
      "outputs": [
        {
          "output_type": "execute_result",
          "data": {
            "text/html": [
              "<div>\n",
              "<style scoped>\n",
              "    .dataframe tbody tr th:only-of-type {\n",
              "        vertical-align: middle;\n",
              "    }\n",
              "\n",
              "    .dataframe tbody tr th {\n",
              "        vertical-align: top;\n",
              "    }\n",
              "\n",
              "    .dataframe thead th {\n",
              "        text-align: right;\n",
              "    }\n",
              "</style>\n",
              "<table border=\"1\" class=\"dataframe\">\n",
              "  <thead>\n",
              "    <tr style=\"text-align: right;\">\n",
              "      <th></th>\n",
              "      <th>id</th>\n",
              "      <th>diagnosis</th>\n",
              "      <th>radius_mean</th>\n",
              "      <th>texture_mean</th>\n",
              "      <th>perimeter_mean</th>\n",
              "      <th>area_mean</th>\n",
              "      <th>smoothness_mean</th>\n",
              "      <th>compactness_mean</th>\n",
              "      <th>concavity_mean</th>\n",
              "      <th>concave points_mean</th>\n",
              "      <th>symmetry_mean</th>\n",
              "      <th>fractal_dimension_mean</th>\n",
              "      <th>radius_se</th>\n",
              "      <th>texture_se</th>\n",
              "      <th>perimeter_se</th>\n",
              "      <th>area_se</th>\n",
              "      <th>smoothness_se</th>\n",
              "      <th>compactness_se</th>\n",
              "      <th>concavity_se</th>\n",
              "      <th>concave points_se</th>\n",
              "      <th>symmetry_se</th>\n",
              "      <th>fractal_dimension_se</th>\n",
              "      <th>radius_worst</th>\n",
              "      <th>texture_worst</th>\n",
              "      <th>perimeter_worst</th>\n",
              "      <th>area_worst</th>\n",
              "      <th>smoothness_worst</th>\n",
              "      <th>compactness_worst</th>\n",
              "      <th>concavity_worst</th>\n",
              "      <th>concave points_worst</th>\n",
              "      <th>symmetry_worst</th>\n",
              "      <th>fractal_dimension_worst</th>\n",
              "    </tr>\n",
              "  </thead>\n",
              "  <tbody>\n",
              "    <tr>\n",
              "      <th>0</th>\n",
              "      <td>842302</td>\n",
              "      <td>M</td>\n",
              "      <td>17.99</td>\n",
              "      <td>10.38</td>\n",
              "      <td>122.80</td>\n",
              "      <td>1001.0</td>\n",
              "      <td>0.11840</td>\n",
              "      <td>0.27760</td>\n",
              "      <td>0.3001</td>\n",
              "      <td>0.14710</td>\n",
              "      <td>0.2419</td>\n",
              "      <td>0.07871</td>\n",
              "      <td>1.0950</td>\n",
              "      <td>0.9053</td>\n",
              "      <td>8.589</td>\n",
              "      <td>153.40</td>\n",
              "      <td>0.006399</td>\n",
              "      <td>0.04904</td>\n",
              "      <td>0.05373</td>\n",
              "      <td>0.01587</td>\n",
              "      <td>0.03003</td>\n",
              "      <td>0.006193</td>\n",
              "      <td>25.38</td>\n",
              "      <td>17.33</td>\n",
              "      <td>184.60</td>\n",
              "      <td>2019.0</td>\n",
              "      <td>0.1622</td>\n",
              "      <td>0.6656</td>\n",
              "      <td>0.7119</td>\n",
              "      <td>0.2654</td>\n",
              "      <td>0.4601</td>\n",
              "      <td>0.11890</td>\n",
              "    </tr>\n",
              "    <tr>\n",
              "      <th>1</th>\n",
              "      <td>842517</td>\n",
              "      <td>M</td>\n",
              "      <td>20.57</td>\n",
              "      <td>17.77</td>\n",
              "      <td>132.90</td>\n",
              "      <td>1326.0</td>\n",
              "      <td>0.08474</td>\n",
              "      <td>0.07864</td>\n",
              "      <td>0.0869</td>\n",
              "      <td>0.07017</td>\n",
              "      <td>0.1812</td>\n",
              "      <td>0.05667</td>\n",
              "      <td>0.5435</td>\n",
              "      <td>0.7339</td>\n",
              "      <td>3.398</td>\n",
              "      <td>74.08</td>\n",
              "      <td>0.005225</td>\n",
              "      <td>0.01308</td>\n",
              "      <td>0.01860</td>\n",
              "      <td>0.01340</td>\n",
              "      <td>0.01389</td>\n",
              "      <td>0.003532</td>\n",
              "      <td>24.99</td>\n",
              "      <td>23.41</td>\n",
              "      <td>158.80</td>\n",
              "      <td>1956.0</td>\n",
              "      <td>0.1238</td>\n",
              "      <td>0.1866</td>\n",
              "      <td>0.2416</td>\n",
              "      <td>0.1860</td>\n",
              "      <td>0.2750</td>\n",
              "      <td>0.08902</td>\n",
              "    </tr>\n",
              "    <tr>\n",
              "      <th>2</th>\n",
              "      <td>84300903</td>\n",
              "      <td>M</td>\n",
              "      <td>19.69</td>\n",
              "      <td>21.25</td>\n",
              "      <td>130.00</td>\n",
              "      <td>1203.0</td>\n",
              "      <td>0.10960</td>\n",
              "      <td>0.15990</td>\n",
              "      <td>0.1974</td>\n",
              "      <td>0.12790</td>\n",
              "      <td>0.2069</td>\n",
              "      <td>0.05999</td>\n",
              "      <td>0.7456</td>\n",
              "      <td>0.7869</td>\n",
              "      <td>4.585</td>\n",
              "      <td>94.03</td>\n",
              "      <td>0.006150</td>\n",
              "      <td>0.04006</td>\n",
              "      <td>0.03832</td>\n",
              "      <td>0.02058</td>\n",
              "      <td>0.02250</td>\n",
              "      <td>0.004571</td>\n",
              "      <td>23.57</td>\n",
              "      <td>25.53</td>\n",
              "      <td>152.50</td>\n",
              "      <td>1709.0</td>\n",
              "      <td>0.1444</td>\n",
              "      <td>0.4245</td>\n",
              "      <td>0.4504</td>\n",
              "      <td>0.2430</td>\n",
              "      <td>0.3613</td>\n",
              "      <td>0.08758</td>\n",
              "    </tr>\n",
              "    <tr>\n",
              "      <th>3</th>\n",
              "      <td>84348301</td>\n",
              "      <td>M</td>\n",
              "      <td>11.42</td>\n",
              "      <td>20.38</td>\n",
              "      <td>77.58</td>\n",
              "      <td>386.1</td>\n",
              "      <td>0.14250</td>\n",
              "      <td>0.28390</td>\n",
              "      <td>0.2414</td>\n",
              "      <td>0.10520</td>\n",
              "      <td>0.2597</td>\n",
              "      <td>0.09744</td>\n",
              "      <td>0.4956</td>\n",
              "      <td>1.1560</td>\n",
              "      <td>3.445</td>\n",
              "      <td>27.23</td>\n",
              "      <td>0.009110</td>\n",
              "      <td>0.07458</td>\n",
              "      <td>0.05661</td>\n",
              "      <td>0.01867</td>\n",
              "      <td>0.05963</td>\n",
              "      <td>0.009208</td>\n",
              "      <td>14.91</td>\n",
              "      <td>26.50</td>\n",
              "      <td>98.87</td>\n",
              "      <td>567.7</td>\n",
              "      <td>0.2098</td>\n",
              "      <td>0.8663</td>\n",
              "      <td>0.6869</td>\n",
              "      <td>0.2575</td>\n",
              "      <td>0.6638</td>\n",
              "      <td>0.17300</td>\n",
              "    </tr>\n",
              "    <tr>\n",
              "      <th>4</th>\n",
              "      <td>84358402</td>\n",
              "      <td>M</td>\n",
              "      <td>20.29</td>\n",
              "      <td>14.34</td>\n",
              "      <td>135.10</td>\n",
              "      <td>1297.0</td>\n",
              "      <td>0.10030</td>\n",
              "      <td>0.13280</td>\n",
              "      <td>0.1980</td>\n",
              "      <td>0.10430</td>\n",
              "      <td>0.1809</td>\n",
              "      <td>0.05883</td>\n",
              "      <td>0.7572</td>\n",
              "      <td>0.7813</td>\n",
              "      <td>5.438</td>\n",
              "      <td>94.44</td>\n",
              "      <td>0.011490</td>\n",
              "      <td>0.02461</td>\n",
              "      <td>0.05688</td>\n",
              "      <td>0.01885</td>\n",
              "      <td>0.01756</td>\n",
              "      <td>0.005115</td>\n",
              "      <td>22.54</td>\n",
              "      <td>16.67</td>\n",
              "      <td>152.20</td>\n",
              "      <td>1575.0</td>\n",
              "      <td>0.1374</td>\n",
              "      <td>0.2050</td>\n",
              "      <td>0.4000</td>\n",
              "      <td>0.1625</td>\n",
              "      <td>0.2364</td>\n",
              "      <td>0.07678</td>\n",
              "    </tr>\n",
              "  </tbody>\n",
              "</table>\n",
              "</div>"
            ],
            "text/plain": [
              "         id diagnosis  ...  symmetry_worst  fractal_dimension_worst\n",
              "0    842302         M  ...          0.4601                  0.11890\n",
              "1    842517         M  ...          0.2750                  0.08902\n",
              "2  84300903         M  ...          0.3613                  0.08758\n",
              "3  84348301         M  ...          0.6638                  0.17300\n",
              "4  84358402         M  ...          0.2364                  0.07678\n",
              "\n",
              "[5 rows x 32 columns]"
            ]
          },
          "metadata": {
            "tags": []
          },
          "execution_count": 3
        }
      ]
    },
    {
      "cell_type": "markdown",
      "metadata": {
        "id": "UAbCZcuA8I-g"
      },
      "source": [
        "Creiamo gli array numpy da usare per il train e il test del modello"
      ]
    },
    {
      "cell_type": "code",
      "metadata": {
        "id": "m-74obLw8ozQ"
      },
      "source": [
        "X = breast_cancer.drop(['diagnosis','id'],axis=1).values\n",
        "Y = breast_cancer['diagnosis'].values\n",
        "\n",
        "X_train, X_test, y_train, y_test = train_test_split(X,Y, test_size=0.3, random_state=0)"
      ],
      "execution_count": null,
      "outputs": []
    },
    {
      "cell_type": "markdown",
      "metadata": {
        "id": "tRlRdcIl9DFj"
      },
      "source": [
        "codifichiamo le label dell'array in numeri"
      ]
    },
    {
      "cell_type": "code",
      "metadata": {
        "id": "6bRzfYG_8_Fg"
      },
      "source": [
        "le = LabelEncoder()\n",
        "y_train = le.fit_transform(y_train)\n",
        "y_test = le.transform(y_test)"
      ],
      "execution_count": null,
      "outputs": []
    },
    {
      "cell_type": "markdown",
      "metadata": {
        "id": "HCEvlVwy9d68"
      },
      "source": [
        "Standardizziamo gli array che contengono le feature (li portiamo quindi tutti sulla stessa scala di valori)"
      ]
    },
    {
      "cell_type": "code",
      "metadata": {
        "id": "C5TopBR89HQT"
      },
      "source": [
        "ss = StandardScaler()\n",
        "X_train = ss.fit_transform(X_train)\n",
        "X_test = ss.transform(X_test)"
      ],
      "execution_count": null,
      "outputs": []
    },
    {
      "cell_type": "code",
      "metadata": {
        "colab": {
          "base_uri": "https://localhost:8080/"
        },
        "id": "swHtEWIi90l1",
        "outputId": "7786fd93-3447-4870-a062-7cdbfdbc57b1"
      },
      "source": [
        "X_train.shape #serve per vedere come è formato il train set, in base a questo parametrizzeremo la rete neurale"
      ],
      "execution_count": null,
      "outputs": [
        {
          "output_type": "execute_result",
          "data": {
            "text/plain": [
              "(398, 30)"
            ]
          },
          "metadata": {
            "tags": []
          },
          "execution_count": 9
        }
      ]
    },
    {
      "cell_type": "markdown",
      "metadata": {
        "id": "-C-s2m_l946X"
      },
      "source": [
        "abbiamo un dataset di train composto da 398 esempi che hanno 30 feature\n",
        "\n",
        "Possiamo creare la rete neurale artificiale, il primo modello sarà cosi composto:\n",
        "\n",
        "* 30 nodi nello strato di input, corrispondono al numero delle feature del dataset\n",
        "* 12 nodi nell'unico strato nascosto, dato scelto arbitriariamente da noi\n",
        "* 1 nodo di output, perche in questo caso la classificazione è binaria, maligno o benigno\n",
        "\n",
        "la funzione di attivazione per lo strato nascosto è la ReLU (per gli hydden layer si usa questa) mentre per lo strato di output si usa la Sigmoide"
      ]
    },
    {
      "cell_type": "code",
      "metadata": {
        "id": "C1ulzHMV93j4"
      },
      "source": [
        "model = Sequential()\n",
        "model.add(Dense(12, input_dim=X_train.shape[1],activation=\"relu\")) # add aggiunge un layer, Dense indica che ogni nodo prende in input tutte le feature input_dim è il numero di feature \n",
        "model.add(Dense(1, activation=\"sigmoid\")) #aggiungiamo lo strato di output e usiamo sigmoide"
      ],
      "execution_count": null,
      "outputs": []
    },
    {
      "cell_type": "markdown",
      "metadata": {
        "id": "PRHpXZ81_Sbo"
      },
      "source": [
        "Utilizziamo il metodo compile per configurare la fase di addestramento, specificando come funzione di ottimizzazione lo Stochastic Gradient Descent (parleremo nel dettaglio di questo algoritmo nella sezione apposita), come funzione da minimizzare la binary cross entropy e aggiungiamo come metrica aggiuntiva da visualizzare durante l'addestramento l'accuracy."
      ]
    },
    {
      "cell_type": "code",
      "metadata": {
        "id": "vVp-sEmC_HeR"
      },
      "source": [
        "model.compile(optimizer='sgd', loss='binary_crossentropy', metrics=['accuracy'])"
      ],
      "execution_count": null,
      "outputs": []
    },
    {
      "cell_type": "markdown",
      "metadata": {
        "id": "VpjATXrb_xVt"
      },
      "source": [
        "con il metodo summary del modello osserviamo il numero di parametri totali che la rete dovrà ottimizzare"
      ]
    },
    {
      "cell_type": "code",
      "metadata": {
        "colab": {
          "base_uri": "https://localhost:8080/"
        },
        "id": "HlY_GV0I_wfN",
        "outputId": "1a2bd099-32f6-418c-9b73-9c992f0887db"
      },
      "source": [
        "model.summary()"
      ],
      "execution_count": null,
      "outputs": [
        {
          "output_type": "stream",
          "text": [
            "Model: \"sequential_1\"\n",
            "_________________________________________________________________\n",
            "Layer (type)                 Output Shape              Param #   \n",
            "=================================================================\n",
            "dense_1 (Dense)              (None, 12)                372       \n",
            "_________________________________________________________________\n",
            "dense_2 (Dense)              (None, 1)                 13        \n",
            "=================================================================\n",
            "Total params: 385\n",
            "Trainable params: 385\n",
            "Non-trainable params: 0\n",
            "_________________________________________________________________\n"
          ],
          "name": "stdout"
        }
      ]
    },
    {
      "cell_type": "markdown",
      "metadata": {
        "id": "28V-M8vA_-P5"
      },
      "source": [
        "Abbiamo 385 parametri in totale:\n",
        "\n",
        "1.  Un peso per ogni connessione dai 30 nodi di input ai 12 nodi dello strato \n",
        "nascosto (30x12=260), più un bias per ogni nodo nello strato nascosto (12).\n",
        "2.  Un peso per ogni connessione dello strato nascosto all'unico nodo dello strato di output (12), più un bias (1)\n",
        "\n",
        "Facciamo partire l'addestramento."
      ]
    },
    {
      "cell_type": "code",
      "metadata": {
        "colab": {
          "base_uri": "https://localhost:8080/"
        },
        "id": "4zcYW01f_5gy",
        "outputId": "47272461-7b7c-4112-977c-2079f9c935b5"
      },
      "source": [
        "model.fit(X_train, y_train, epochs=100) #cento epoche, questo dato è da valutare"
      ],
      "execution_count": null,
      "outputs": [
        {
          "output_type": "stream",
          "text": [
            "Epoch 1/100\n",
            "13/13 [==============================] - 0s 1ms/step - loss: 0.8186 - accuracy: 0.4829\n",
            "Epoch 2/100\n",
            "13/13 [==============================] - 0s 2ms/step - loss: 0.6841 - accuracy: 0.6069\n",
            "Epoch 3/100\n",
            "13/13 [==============================] - 0s 1ms/step - loss: 0.5307 - accuracy: 0.7511\n",
            "Epoch 4/100\n",
            "13/13 [==============================] - 0s 1ms/step - loss: 0.4589 - accuracy: 0.8071\n",
            "Epoch 5/100\n",
            "13/13 [==============================] - 0s 1ms/step - loss: 0.4153 - accuracy: 0.8752\n",
            "Epoch 6/100\n",
            "13/13 [==============================] - 0s 1ms/step - loss: 0.3708 - accuracy: 0.8916\n",
            "Epoch 7/100\n",
            "13/13 [==============================] - 0s 1ms/step - loss: 0.3461 - accuracy: 0.8854\n",
            "Epoch 8/100\n",
            "13/13 [==============================] - 0s 1ms/step - loss: 0.3224 - accuracy: 0.8781\n",
            "Epoch 9/100\n",
            "13/13 [==============================] - 0s 1ms/step - loss: 0.2994 - accuracy: 0.9084\n",
            "Epoch 10/100\n",
            "13/13 [==============================] - 0s 1ms/step - loss: 0.2596 - accuracy: 0.9155\n",
            "Epoch 11/100\n",
            "13/13 [==============================] - 0s 2ms/step - loss: 0.2627 - accuracy: 0.9224\n",
            "Epoch 12/100\n",
            "13/13 [==============================] - 0s 1ms/step - loss: 0.2296 - accuracy: 0.9362\n",
            "Epoch 13/100\n",
            "13/13 [==============================] - 0s 1ms/step - loss: 0.2224 - accuracy: 0.9431\n",
            "Epoch 14/100\n",
            "13/13 [==============================] - 0s 1ms/step - loss: 0.2161 - accuracy: 0.9529\n",
            "Epoch 15/100\n",
            "13/13 [==============================] - 0s 1ms/step - loss: 0.2138 - accuracy: 0.9438\n",
            "Epoch 16/100\n",
            "13/13 [==============================] - 0s 1ms/step - loss: 0.2158 - accuracy: 0.9391\n",
            "Epoch 17/100\n",
            "13/13 [==============================] - 0s 1ms/step - loss: 0.2015 - accuracy: 0.9465\n",
            "Epoch 18/100\n",
            "13/13 [==============================] - 0s 1ms/step - loss: 0.1929 - accuracy: 0.9453\n",
            "Epoch 19/100\n",
            "13/13 [==============================] - 0s 1ms/step - loss: 0.1855 - accuracy: 0.9550\n",
            "Epoch 20/100\n",
            "13/13 [==============================] - 0s 2ms/step - loss: 0.1831 - accuracy: 0.9487\n",
            "Epoch 21/100\n",
            "13/13 [==============================] - 0s 1ms/step - loss: 0.2015 - accuracy: 0.9375\n",
            "Epoch 22/100\n",
            "13/13 [==============================] - 0s 1ms/step - loss: 0.1754 - accuracy: 0.9518\n",
            "Epoch 23/100\n",
            "13/13 [==============================] - 0s 1ms/step - loss: 0.1691 - accuracy: 0.9494\n",
            "Epoch 24/100\n",
            "13/13 [==============================] - 0s 1ms/step - loss: 0.1647 - accuracy: 0.9546\n",
            "Epoch 25/100\n",
            "13/13 [==============================] - 0s 1ms/step - loss: 0.1540 - accuracy: 0.9595\n",
            "Epoch 26/100\n",
            "13/13 [==============================] - 0s 1ms/step - loss: 0.1679 - accuracy: 0.9439\n",
            "Epoch 27/100\n",
            "13/13 [==============================] - 0s 1ms/step - loss: 0.1581 - accuracy: 0.9541\n",
            "Epoch 28/100\n",
            "13/13 [==============================] - 0s 1ms/step - loss: 0.1462 - accuracy: 0.9564\n",
            "Epoch 29/100\n",
            "13/13 [==============================] - 0s 1ms/step - loss: 0.1417 - accuracy: 0.9686\n",
            "Epoch 30/100\n",
            "13/13 [==============================] - 0s 2ms/step - loss: 0.1502 - accuracy: 0.9652\n",
            "Epoch 31/100\n",
            "13/13 [==============================] - 0s 1ms/step - loss: 0.1471 - accuracy: 0.9620\n",
            "Epoch 32/100\n",
            "13/13 [==============================] - 0s 2ms/step - loss: 0.1212 - accuracy: 0.9687\n",
            "Epoch 33/100\n",
            "13/13 [==============================] - 0s 2ms/step - loss: 0.1448 - accuracy: 0.9655\n",
            "Epoch 34/100\n",
            "13/13 [==============================] - 0s 1ms/step - loss: 0.1285 - accuracy: 0.9649\n",
            "Epoch 35/100\n",
            "13/13 [==============================] - 0s 2ms/step - loss: 0.1285 - accuracy: 0.9627\n",
            "Epoch 36/100\n",
            "13/13 [==============================] - 0s 1ms/step - loss: 0.1491 - accuracy: 0.9564\n",
            "Epoch 37/100\n",
            "13/13 [==============================] - 0s 2ms/step - loss: 0.1390 - accuracy: 0.9525\n",
            "Epoch 38/100\n",
            "13/13 [==============================] - 0s 2ms/step - loss: 0.1172 - accuracy: 0.9644\n",
            "Epoch 39/100\n",
            "13/13 [==============================] - 0s 2ms/step - loss: 0.1274 - accuracy: 0.9633\n",
            "Epoch 40/100\n",
            "13/13 [==============================] - 0s 2ms/step - loss: 0.1422 - accuracy: 0.9638\n",
            "Epoch 41/100\n",
            "13/13 [==============================] - 0s 1ms/step - loss: 0.1043 - accuracy: 0.9791\n",
            "Epoch 42/100\n",
            "13/13 [==============================] - 0s 1ms/step - loss: 0.1078 - accuracy: 0.9756\n",
            "Epoch 43/100\n",
            "13/13 [==============================] - 0s 1ms/step - loss: 0.1097 - accuracy: 0.9804\n",
            "Epoch 44/100\n",
            "13/13 [==============================] - 0s 2ms/step - loss: 0.1383 - accuracy: 0.9547\n",
            "Epoch 45/100\n",
            "13/13 [==============================] - 0s 1ms/step - loss: 0.1149 - accuracy: 0.9775\n",
            "Epoch 46/100\n",
            "13/13 [==============================] - 0s 2ms/step - loss: 0.1175 - accuracy: 0.9656\n",
            "Epoch 47/100\n",
            "13/13 [==============================] - 0s 1ms/step - loss: 0.1192 - accuracy: 0.9672\n",
            "Epoch 48/100\n",
            "13/13 [==============================] - 0s 1ms/step - loss: 0.1268 - accuracy: 0.9644\n",
            "Epoch 49/100\n",
            "13/13 [==============================] - 0s 2ms/step - loss: 0.1044 - accuracy: 0.9786\n",
            "Epoch 50/100\n",
            "13/13 [==============================] - 0s 1ms/step - loss: 0.1123 - accuracy: 0.9694\n",
            "Epoch 51/100\n",
            "13/13 [==============================] - 0s 2ms/step - loss: 0.1156 - accuracy: 0.9795\n",
            "Epoch 52/100\n",
            "13/13 [==============================] - 0s 1ms/step - loss: 0.0938 - accuracy: 0.9803\n",
            "Epoch 53/100\n",
            "13/13 [==============================] - 0s 1ms/step - loss: 0.1051 - accuracy: 0.9693\n",
            "Epoch 54/100\n",
            "13/13 [==============================] - 0s 2ms/step - loss: 0.1323 - accuracy: 0.9576\n",
            "Epoch 55/100\n",
            "13/13 [==============================] - 0s 2ms/step - loss: 0.1080 - accuracy: 0.9693\n",
            "Epoch 56/100\n",
            "13/13 [==============================] - 0s 1ms/step - loss: 0.1236 - accuracy: 0.9661\n",
            "Epoch 57/100\n",
            "13/13 [==============================] - 0s 2ms/step - loss: 0.1083 - accuracy: 0.9749\n",
            "Epoch 58/100\n",
            "13/13 [==============================] - 0s 2ms/step - loss: 0.1027 - accuracy: 0.9712\n",
            "Epoch 59/100\n",
            "13/13 [==============================] - 0s 1ms/step - loss: 0.1135 - accuracy: 0.9665\n",
            "Epoch 60/100\n",
            "13/13 [==============================] - 0s 1ms/step - loss: 0.1183 - accuracy: 0.9580\n",
            "Epoch 61/100\n",
            "13/13 [==============================] - 0s 2ms/step - loss: 0.0894 - accuracy: 0.9798\n",
            "Epoch 62/100\n",
            "13/13 [==============================] - 0s 2ms/step - loss: 0.0922 - accuracy: 0.9816\n",
            "Epoch 63/100\n",
            "13/13 [==============================] - 0s 2ms/step - loss: 0.1156 - accuracy: 0.9626\n",
            "Epoch 64/100\n",
            "13/13 [==============================] - 0s 1ms/step - loss: 0.0995 - accuracy: 0.9780\n",
            "Epoch 65/100\n",
            "13/13 [==============================] - 0s 1ms/step - loss: 0.0884 - accuracy: 0.9783\n",
            "Epoch 66/100\n",
            "13/13 [==============================] - 0s 2ms/step - loss: 0.0989 - accuracy: 0.9672\n",
            "Epoch 67/100\n",
            "13/13 [==============================] - 0s 1ms/step - loss: 0.0935 - accuracy: 0.9710\n",
            "Epoch 68/100\n",
            "13/13 [==============================] - 0s 2ms/step - loss: 0.0912 - accuracy: 0.9789\n",
            "Epoch 69/100\n",
            "13/13 [==============================] - 0s 2ms/step - loss: 0.0975 - accuracy: 0.9800\n",
            "Epoch 70/100\n",
            "13/13 [==============================] - 0s 2ms/step - loss: 0.1175 - accuracy: 0.9693\n",
            "Epoch 71/100\n",
            "13/13 [==============================] - 0s 2ms/step - loss: 0.1057 - accuracy: 0.9702\n",
            "Epoch 72/100\n",
            "13/13 [==============================] - 0s 2ms/step - loss: 0.1163 - accuracy: 0.9728\n",
            "Epoch 73/100\n",
            "13/13 [==============================] - 0s 2ms/step - loss: 0.1102 - accuracy: 0.9698\n",
            "Epoch 74/100\n",
            "13/13 [==============================] - 0s 2ms/step - loss: 0.1022 - accuracy: 0.9756\n",
            "Epoch 75/100\n",
            "13/13 [==============================] - 0s 2ms/step - loss: 0.0867 - accuracy: 0.9801\n",
            "Epoch 76/100\n",
            "13/13 [==============================] - 0s 2ms/step - loss: 0.0991 - accuracy: 0.9743\n",
            "Epoch 77/100\n",
            "13/13 [==============================] - 0s 1ms/step - loss: 0.0635 - accuracy: 0.9866\n",
            "Epoch 78/100\n",
            "13/13 [==============================] - 0s 1ms/step - loss: 0.0937 - accuracy: 0.9751\n",
            "Epoch 79/100\n",
            "13/13 [==============================] - 0s 2ms/step - loss: 0.0797 - accuracy: 0.9783\n",
            "Epoch 80/100\n",
            "13/13 [==============================] - 0s 2ms/step - loss: 0.0837 - accuracy: 0.9762\n",
            "Epoch 81/100\n",
            "13/13 [==============================] - 0s 2ms/step - loss: 0.0942 - accuracy: 0.9796\n",
            "Epoch 82/100\n",
            "13/13 [==============================] - 0s 2ms/step - loss: 0.0800 - accuracy: 0.9795\n",
            "Epoch 83/100\n",
            "13/13 [==============================] - 0s 2ms/step - loss: 0.0885 - accuracy: 0.9735\n",
            "Epoch 84/100\n",
            "13/13 [==============================] - 0s 2ms/step - loss: 0.0914 - accuracy: 0.9740\n",
            "Epoch 85/100\n",
            "13/13 [==============================] - 0s 2ms/step - loss: 0.0865 - accuracy: 0.9730\n",
            "Epoch 86/100\n",
            "13/13 [==============================] - 0s 2ms/step - loss: 0.0831 - accuracy: 0.9771\n",
            "Epoch 87/100\n",
            "13/13 [==============================] - 0s 1ms/step - loss: 0.0848 - accuracy: 0.9757\n",
            "Epoch 88/100\n",
            "13/13 [==============================] - 0s 2ms/step - loss: 0.0956 - accuracy: 0.9719\n",
            "Epoch 89/100\n",
            "13/13 [==============================] - 0s 2ms/step - loss: 0.0926 - accuracy: 0.9636\n",
            "Epoch 90/100\n",
            "13/13 [==============================] - 0s 2ms/step - loss: 0.0742 - accuracy: 0.9815\n",
            "Epoch 91/100\n",
            "13/13 [==============================] - 0s 1ms/step - loss: 0.0870 - accuracy: 0.9690\n",
            "Epoch 92/100\n",
            "13/13 [==============================] - 0s 1ms/step - loss: 0.0955 - accuracy: 0.9696\n",
            "Epoch 93/100\n",
            "13/13 [==============================] - 0s 2ms/step - loss: 0.0783 - accuracy: 0.9760\n",
            "Epoch 94/100\n",
            "13/13 [==============================] - 0s 2ms/step - loss: 0.0753 - accuracy: 0.9805\n",
            "Epoch 95/100\n",
            "13/13 [==============================] - 0s 1ms/step - loss: 0.0741 - accuracy: 0.9820\n",
            "Epoch 96/100\n",
            "13/13 [==============================] - 0s 2ms/step - loss: 0.1108 - accuracy: 0.9636\n",
            "Epoch 97/100\n",
            "13/13 [==============================] - 0s 2ms/step - loss: 0.0909 - accuracy: 0.9724\n",
            "Epoch 98/100\n",
            "13/13 [==============================] - 0s 1ms/step - loss: 0.0981 - accuracy: 0.9740\n",
            "Epoch 99/100\n",
            "13/13 [==============================] - 0s 2ms/step - loss: 0.0842 - accuracy: 0.9689\n",
            "Epoch 100/100\n",
            "13/13 [==============================] - 0s 2ms/step - loss: 0.0845 - accuracy: 0.9731\n"
          ],
          "name": "stdout"
        },
        {
          "output_type": "execute_result",
          "data": {
            "text/plain": [
              "<tensorflow.python.keras.callbacks.History at 0x7f416f6de6d8>"
            ]
          },
          "metadata": {
            "tags": []
          },
          "execution_count": 27
        }
      ]
    },
    {
      "cell_type": "markdown",
      "metadata": {
        "id": "Tk_R0Nx4CgMJ"
      },
      "source": [
        "all'epoca 99 il nostro modello ha un accuracy del 98% e un valore per la funzione di costo di 0,06, verifichiamo il risutlato anche sul set di test"
      ]
    },
    {
      "cell_type": "code",
      "metadata": {
        "colab": {
          "base_uri": "https://localhost:8080/"
        },
        "id": "91f3TBYyAWjN",
        "outputId": "74475dba-ed72-4ccd-b85b-bd9b6d27adf3"
      },
      "source": [
        "loss,acc = model.evaluate(X_test, y_test) #il metodo evaluate sul set di test ci ritorna accuracy e costo\n",
        "print(\"Loss sul test set: %.4f\" % loss)\n",
        "print(\"Accuracy sul test sed: %.4f\" % acc)"
      ],
      "execution_count": null,
      "outputs": [
        {
          "output_type": "stream",
          "text": [
            "6/6 [==============================] - 0s 2ms/step - loss: 0.1246 - accuracy: 0.9532\n",
            "Loss sul test set: 0.1246\n",
            "Accuracy sul test sed: 0.9532\n"
          ],
          "name": "stdout"
        }
      ]
    },
    {
      "cell_type": "markdown",
      "metadata": {
        "id": "IqBFaU_EKzir"
      },
      "source": [
        "# Reti neurali artificiali profonde\n",
        "\n",
        "si dice profonda quando ha piu di un hidden layer\n",
        "\n",
        "questa rete sarà cosi composta\n",
        "\n",
        "\n",
        "*   **30 nodi** nello strato di input\n",
        "*   **12 nodi** nel primo strato nascosto\n",
        "*   **8 nodi** nel secondo strato nascosto\n",
        "*   **4 nodi** nel terzo strato nascosto\n",
        "*   **1 nodo** stato di output\n",
        "\n",
        "come funzione di attivazione usiamo la ReLU per gli strati nascosti e sigmoide per l'output\n",
        "\n",
        "\n"
      ]
    },
    {
      "cell_type": "code",
      "metadata": {
        "id": "cRhBO-irC_xe"
      },
      "source": [
        "model = Sequential()\n",
        "\n",
        "model.add(Dense(12, input_dim=X_train.shape[1], activation=\"relu\"))\n",
        "model.add(Dense(8, activation=\"relu\"))\n",
        "model.add(Dense(4, activation=\"relu\"))\n",
        "#model.add(Dense(4, activation=\"relu\"))\n",
        "model.add(Dense(1, activation=\"sigmoid\"))\n",
        "\n",
        "model.compile(optimizer='sgd', loss='binary_crossentropy', metrics=['accuracy'])"
      ],
      "execution_count": null,
      "outputs": []
    },
    {
      "cell_type": "code",
      "metadata": {
        "colab": {
          "base_uri": "https://localhost:8080/"
        },
        "id": "rsXnrBKkKLop",
        "outputId": "46d834be-eadc-4c32-9b9e-6cb696503ac2"
      },
      "source": [
        "model.summary()"
      ],
      "execution_count": null,
      "outputs": [
        {
          "output_type": "stream",
          "text": [
            "Model: \"sequential_5\"\n",
            "_________________________________________________________________\n",
            "Layer (type)                 Output Shape              Param #   \n",
            "=================================================================\n",
            "dense_13 (Dense)             (None, 12)                372       \n",
            "_________________________________________________________________\n",
            "dense_14 (Dense)             (None, 8)                 104       \n",
            "_________________________________________________________________\n",
            "dense_15 (Dense)             (None, 4)                 36        \n",
            "_________________________________________________________________\n",
            "dense_16 (Dense)             (None, 2)                 10        \n",
            "_________________________________________________________________\n",
            "dense_17 (Dense)             (None, 1)                 3         \n",
            "=================================================================\n",
            "Total params: 525\n",
            "Trainable params: 525\n",
            "Non-trainable params: 0\n",
            "_________________________________________________________________\n"
          ],
          "name": "stdout"
        }
      ]
    },
    {
      "cell_type": "markdown",
      "metadata": {
        "id": "wExf-HnJL-F0"
      },
      "source": [
        "Ora sono 517"
      ]
    },
    {
      "cell_type": "code",
      "metadata": {
        "colab": {
          "base_uri": "https://localhost:8080/"
        },
        "id": "n_hAQlLvL6is",
        "outputId": "552e8ded-bf73-4b4e-b2ca-747464fea6a7"
      },
      "source": [
        "model.fit(X_train, y_train, epochs=100)"
      ],
      "execution_count": null,
      "outputs": [
        {
          "output_type": "stream",
          "text": [
            "Epoch 1/100\n",
            "13/13 [==============================] - 0s 1ms/step - loss: 0.5902 - accuracy: 0.7517\n",
            "Epoch 2/100\n",
            "13/13 [==============================] - 0s 1ms/step - loss: 0.5670 - accuracy: 0.8223\n",
            "Epoch 3/100\n",
            "13/13 [==============================] - 0s 2ms/step - loss: 0.5242 - accuracy: 0.8654\n",
            "Epoch 4/100\n",
            "13/13 [==============================] - 0s 1ms/step - loss: 0.5003 - accuracy: 0.8761\n",
            "Epoch 5/100\n",
            "13/13 [==============================] - 0s 1ms/step - loss: 0.4582 - accuracy: 0.8940\n",
            "Epoch 6/100\n",
            "13/13 [==============================] - 0s 1ms/step - loss: 0.4224 - accuracy: 0.9056\n",
            "Epoch 7/100\n",
            "13/13 [==============================] - 0s 1ms/step - loss: 0.3984 - accuracy: 0.8986\n",
            "Epoch 8/100\n",
            "13/13 [==============================] - 0s 2ms/step - loss: 0.3582 - accuracy: 0.9085\n",
            "Epoch 9/100\n",
            "13/13 [==============================] - 0s 1ms/step - loss: 0.3215 - accuracy: 0.9340\n",
            "Epoch 10/100\n",
            "13/13 [==============================] - 0s 2ms/step - loss: 0.3134 - accuracy: 0.9169\n",
            "Epoch 11/100\n",
            "13/13 [==============================] - 0s 1ms/step - loss: 0.2888 - accuracy: 0.9317\n",
            "Epoch 12/100\n",
            "13/13 [==============================] - 0s 1ms/step - loss: 0.2665 - accuracy: 0.9194\n",
            "Epoch 13/100\n",
            "13/13 [==============================] - 0s 1ms/step - loss: 0.2538 - accuracy: 0.9278\n",
            "Epoch 14/100\n",
            "13/13 [==============================] - 0s 1ms/step - loss: 0.2469 - accuracy: 0.9251\n",
            "Epoch 15/100\n",
            "13/13 [==============================] - 0s 1ms/step - loss: 0.2274 - accuracy: 0.9386\n",
            "Epoch 16/100\n",
            "13/13 [==============================] - 0s 2ms/step - loss: 0.2263 - accuracy: 0.9205\n",
            "Epoch 17/100\n",
            "13/13 [==============================] - 0s 2ms/step - loss: 0.2148 - accuracy: 0.9244\n",
            "Epoch 18/100\n",
            "13/13 [==============================] - 0s 2ms/step - loss: 0.1782 - accuracy: 0.9401\n",
            "Epoch 19/100\n",
            "13/13 [==============================] - 0s 2ms/step - loss: 0.1688 - accuracy: 0.9466\n",
            "Epoch 20/100\n",
            "13/13 [==============================] - 0s 1ms/step - loss: 0.1775 - accuracy: 0.9407\n",
            "Epoch 21/100\n",
            "13/13 [==============================] - 0s 1ms/step - loss: 0.1834 - accuracy: 0.9335\n",
            "Epoch 22/100\n",
            "13/13 [==============================] - 0s 2ms/step - loss: 0.1679 - accuracy: 0.9335\n",
            "Epoch 23/100\n",
            "13/13 [==============================] - 0s 2ms/step - loss: 0.1641 - accuracy: 0.9423\n",
            "Epoch 24/100\n",
            "13/13 [==============================] - 0s 2ms/step - loss: 0.1719 - accuracy: 0.9385\n",
            "Epoch 25/100\n",
            "13/13 [==============================] - 0s 2ms/step - loss: 0.1411 - accuracy: 0.9568\n",
            "Epoch 26/100\n",
            "13/13 [==============================] - 0s 2ms/step - loss: 0.1508 - accuracy: 0.9448\n",
            "Epoch 27/100\n",
            "13/13 [==============================] - 0s 2ms/step - loss: 0.1322 - accuracy: 0.9520\n",
            "Epoch 28/100\n",
            "13/13 [==============================] - 0s 1ms/step - loss: 0.1357 - accuracy: 0.9464\n",
            "Epoch 29/100\n",
            "13/13 [==============================] - 0s 1ms/step - loss: 0.1412 - accuracy: 0.9485\n",
            "Epoch 30/100\n",
            "13/13 [==============================] - 0s 1ms/step - loss: 0.1363 - accuracy: 0.9495\n",
            "Epoch 31/100\n",
            "13/13 [==============================] - 0s 1ms/step - loss: 0.1187 - accuracy: 0.9634\n",
            "Epoch 32/100\n",
            "13/13 [==============================] - 0s 1ms/step - loss: 0.1227 - accuracy: 0.9663\n",
            "Epoch 33/100\n",
            "13/13 [==============================] - 0s 1ms/step - loss: 0.1411 - accuracy: 0.9474\n",
            "Epoch 34/100\n",
            "13/13 [==============================] - 0s 1ms/step - loss: 0.1353 - accuracy: 0.9513\n",
            "Epoch 35/100\n",
            "13/13 [==============================] - 0s 2ms/step - loss: 0.0967 - accuracy: 0.9782\n",
            "Epoch 36/100\n",
            "13/13 [==============================] - 0s 1ms/step - loss: 0.1118 - accuracy: 0.9678\n",
            "Epoch 37/100\n",
            "13/13 [==============================] - 0s 2ms/step - loss: 0.1163 - accuracy: 0.9729\n",
            "Epoch 38/100\n",
            "13/13 [==============================] - 0s 1ms/step - loss: 0.1095 - accuracy: 0.9626\n",
            "Epoch 39/100\n",
            "13/13 [==============================] - 0s 1ms/step - loss: 0.1022 - accuracy: 0.9712\n",
            "Epoch 40/100\n",
            "13/13 [==============================] - 0s 1ms/step - loss: 0.1298 - accuracy: 0.9560\n",
            "Epoch 41/100\n",
            "13/13 [==============================] - 0s 1ms/step - loss: 0.1053 - accuracy: 0.9694\n",
            "Epoch 42/100\n",
            "13/13 [==============================] - 0s 2ms/step - loss: 0.1276 - accuracy: 0.9615\n",
            "Epoch 43/100\n",
            "13/13 [==============================] - 0s 2ms/step - loss: 0.0907 - accuracy: 0.9795\n",
            "Epoch 44/100\n",
            "13/13 [==============================] - 0s 2ms/step - loss: 0.1173 - accuracy: 0.9666\n",
            "Epoch 45/100\n",
            "13/13 [==============================] - 0s 1ms/step - loss: 0.0990 - accuracy: 0.9752\n",
            "Epoch 46/100\n",
            "13/13 [==============================] - 0s 2ms/step - loss: 0.0892 - accuracy: 0.9735\n",
            "Epoch 47/100\n",
            "13/13 [==============================] - 0s 2ms/step - loss: 0.0864 - accuracy: 0.9810\n",
            "Epoch 48/100\n",
            "13/13 [==============================] - 0s 2ms/step - loss: 0.1041 - accuracy: 0.9638\n",
            "Epoch 49/100\n",
            "13/13 [==============================] - 0s 2ms/step - loss: 0.1199 - accuracy: 0.9548\n",
            "Epoch 50/100\n",
            "13/13 [==============================] - 0s 1ms/step - loss: 0.1047 - accuracy: 0.9736\n",
            "Epoch 51/100\n",
            "13/13 [==============================] - 0s 1ms/step - loss: 0.1106 - accuracy: 0.9715\n",
            "Epoch 52/100\n",
            "13/13 [==============================] - 0s 2ms/step - loss: 0.1035 - accuracy: 0.9664\n",
            "Epoch 53/100\n",
            "13/13 [==============================] - 0s 1ms/step - loss: 0.1021 - accuracy: 0.9630\n",
            "Epoch 54/100\n",
            "13/13 [==============================] - 0s 1ms/step - loss: 0.0919 - accuracy: 0.9730\n",
            "Epoch 55/100\n",
            "13/13 [==============================] - 0s 2ms/step - loss: 0.1065 - accuracy: 0.9575\n",
            "Epoch 56/100\n",
            "13/13 [==============================] - 0s 1ms/step - loss: 0.0687 - accuracy: 0.9799\n",
            "Epoch 57/100\n",
            "13/13 [==============================] - 0s 1ms/step - loss: 0.0967 - accuracy: 0.9743\n",
            "Epoch 58/100\n",
            "13/13 [==============================] - 0s 2ms/step - loss: 0.0678 - accuracy: 0.9843\n",
            "Epoch 59/100\n",
            "13/13 [==============================] - 0s 1ms/step - loss: 0.0997 - accuracy: 0.9682\n",
            "Epoch 60/100\n",
            "13/13 [==============================] - 0s 1ms/step - loss: 0.0843 - accuracy: 0.9777\n",
            "Epoch 61/100\n",
            "13/13 [==============================] - 0s 2ms/step - loss: 0.0830 - accuracy: 0.9771\n",
            "Epoch 62/100\n",
            "13/13 [==============================] - 0s 2ms/step - loss: 0.0914 - accuracy: 0.9751\n",
            "Epoch 63/100\n",
            "13/13 [==============================] - 0s 1ms/step - loss: 0.0895 - accuracy: 0.9773\n",
            "Epoch 64/100\n",
            "13/13 [==============================] - 0s 2ms/step - loss: 0.0869 - accuracy: 0.9814\n",
            "Epoch 65/100\n",
            "13/13 [==============================] - 0s 2ms/step - loss: 0.0873 - accuracy: 0.9766\n",
            "Epoch 66/100\n",
            "13/13 [==============================] - 0s 2ms/step - loss: 0.0727 - accuracy: 0.9880\n",
            "Epoch 67/100\n",
            "13/13 [==============================] - 0s 2ms/step - loss: 0.0798 - accuracy: 0.9807\n",
            "Epoch 68/100\n",
            "13/13 [==============================] - 0s 2ms/step - loss: 0.0878 - accuracy: 0.9856\n",
            "Epoch 69/100\n",
            "13/13 [==============================] - 0s 2ms/step - loss: 0.0806 - accuracy: 0.9819\n",
            "Epoch 70/100\n",
            "13/13 [==============================] - 0s 1ms/step - loss: 0.0671 - accuracy: 0.9844\n",
            "Epoch 71/100\n",
            "13/13 [==============================] - 0s 2ms/step - loss: 0.0673 - accuracy: 0.9850\n",
            "Epoch 72/100\n",
            "13/13 [==============================] - 0s 2ms/step - loss: 0.0720 - accuracy: 0.9867\n",
            "Epoch 73/100\n",
            "13/13 [==============================] - 0s 2ms/step - loss: 0.0658 - accuracy: 0.9884\n",
            "Epoch 74/100\n",
            "13/13 [==============================] - 0s 2ms/step - loss: 0.0893 - accuracy: 0.9722\n",
            "Epoch 75/100\n",
            "13/13 [==============================] - 0s 1ms/step - loss: 0.0929 - accuracy: 0.9762\n",
            "Epoch 76/100\n",
            "13/13 [==============================] - 0s 1ms/step - loss: 0.0677 - accuracy: 0.9852\n",
            "Epoch 77/100\n",
            "13/13 [==============================] - 0s 2ms/step - loss: 0.1023 - accuracy: 0.9704\n",
            "Epoch 78/100\n",
            "13/13 [==============================] - 0s 2ms/step - loss: 0.0797 - accuracy: 0.9816\n",
            "Epoch 79/100\n",
            "13/13 [==============================] - 0s 2ms/step - loss: 0.0793 - accuracy: 0.9766\n",
            "Epoch 80/100\n",
            "13/13 [==============================] - 0s 1ms/step - loss: 0.0746 - accuracy: 0.9705\n",
            "Epoch 81/100\n",
            "13/13 [==============================] - 0s 2ms/step - loss: 0.0782 - accuracy: 0.9829\n",
            "Epoch 82/100\n",
            "13/13 [==============================] - 0s 2ms/step - loss: 0.0675 - accuracy: 0.9823\n",
            "Epoch 83/100\n",
            "13/13 [==============================] - 0s 2ms/step - loss: 0.0550 - accuracy: 0.9842\n",
            "Epoch 84/100\n",
            "13/13 [==============================] - 0s 2ms/step - loss: 0.0629 - accuracy: 0.9860\n",
            "Epoch 85/100\n",
            "13/13 [==============================] - 0s 2ms/step - loss: 0.0618 - accuracy: 0.9813\n",
            "Epoch 86/100\n",
            "13/13 [==============================] - 0s 2ms/step - loss: 0.0812 - accuracy: 0.9765\n",
            "Epoch 87/100\n",
            "13/13 [==============================] - 0s 1ms/step - loss: 0.0988 - accuracy: 0.9681\n",
            "Epoch 88/100\n",
            "13/13 [==============================] - 0s 2ms/step - loss: 0.0767 - accuracy: 0.9786\n",
            "Epoch 89/100\n",
            "13/13 [==============================] - 0s 1ms/step - loss: 0.0871 - accuracy: 0.9784\n",
            "Epoch 90/100\n",
            "13/13 [==============================] - 0s 2ms/step - loss: 0.0767 - accuracy: 0.9781\n",
            "Epoch 91/100\n",
            "13/13 [==============================] - 0s 2ms/step - loss: 0.0892 - accuracy: 0.9733\n",
            "Epoch 92/100\n",
            "13/13 [==============================] - 0s 1ms/step - loss: 0.0576 - accuracy: 0.9892\n",
            "Epoch 93/100\n",
            "13/13 [==============================] - 0s 2ms/step - loss: 0.0585 - accuracy: 0.9792\n",
            "Epoch 94/100\n",
            "13/13 [==============================] - 0s 2ms/step - loss: 0.0707 - accuracy: 0.9860\n",
            "Epoch 95/100\n",
            "13/13 [==============================] - 0s 1ms/step - loss: 0.0782 - accuracy: 0.9785\n",
            "Epoch 96/100\n",
            "13/13 [==============================] - 0s 1ms/step - loss: 0.1072 - accuracy: 0.9668\n",
            "Epoch 97/100\n",
            "13/13 [==============================] - 0s 1ms/step - loss: 0.0690 - accuracy: 0.9759\n",
            "Epoch 98/100\n",
            "13/13 [==============================] - 0s 2ms/step - loss: 0.0842 - accuracy: 0.9745\n",
            "Epoch 99/100\n",
            "13/13 [==============================] - 0s 2ms/step - loss: 0.0974 - accuracy: 0.9680\n",
            "Epoch 100/100\n",
            "13/13 [==============================] - 0s 2ms/step - loss: 0.0603 - accuracy: 0.9789\n"
          ],
          "name": "stdout"
        },
        {
          "output_type": "execute_result",
          "data": {
            "text/plain": [
              "<tensorflow.python.keras.callbacks.History at 0x7f416a38a940>"
            ]
          },
          "metadata": {
            "tags": []
          },
          "execution_count": 48
        }
      ]
    },
    {
      "cell_type": "code",
      "metadata": {
        "colab": {
          "base_uri": "https://localhost:8080/"
        },
        "id": "bZmevEyCMCZ9",
        "outputId": "1aa208a2-7e03-4c9a-c25c-c6eb12389978"
      },
      "source": [
        "loss, acc = model.evaluate(X_test, y_test)\n",
        "print(\"Loss sul test set: %.4f\" % loss)\n",
        "print(\"Accuracy sul test set: %.4f\" % acc)"
      ],
      "execution_count": null,
      "outputs": [
        {
          "output_type": "stream",
          "text": [
            "6/6 [==============================] - 0s 2ms/step - loss: 0.0721 - accuracy: 0.9825\n",
            "Loss sul test set: 0.0721\n",
            "Accuracy sul test set: 0.9825\n"
          ],
          "name": "stdout"
        }
      ]
    },
    {
      "cell_type": "markdown",
      "metadata": {
        "id": "TxTdVzyTMU6p"
      },
      "source": [
        "Aggiungendo 2 strati il modello è migliorato ancora\n"
      ]
    },
    {
      "cell_type": "markdown",
      "metadata": {
        "id": "AWj0IuErPJZ8"
      },
      "source": [
        "importo questa parte di codice che mi serve dopo per visualizzare i dati"
      ]
    },
    {
      "cell_type": "code",
      "metadata": {
        "id": "KjGeOGhWMTru"
      },
      "source": [
        "import numpy as np\n",
        "import matplotlib.pyplot as plt\n",
        "import itertools\n",
        "\n",
        "def showBounds(X,Y,model, labels=[\"classe negativa\", \"classe positiva\"]):\n",
        "    \n",
        "    h = .02 \n",
        "\n",
        "    x_min, x_max = X[:, 0].min(), X[:, 0].max()\n",
        "    y_min, y_max = X[:, 1].min(), X[:, 1].max()\n",
        "\n",
        "    xx, yy = np.meshgrid(np.arange(x_min, x_max, h),\n",
        "                         np.arange(y_min, y_max, h))\n",
        "\n",
        "    Z = model.predict_classes(np.c_[xx.ravel(), yy.ravel()])\n",
        "\n",
        "    Z = Z.reshape(xx.shape)\n",
        "    plt.contourf(xx, yy, Z, cmap=plt.cm.Paired)\n",
        "\n",
        "    X_m = X[Y==1]\n",
        "    X_b = X[Y==0]\n",
        "    plt.scatter(X_b[:, 0], X_b[:, 1], c=\"green\",  edgecolor='white', label=labels[0])\n",
        "    plt.scatter(X_m[:, 0], X_m[:, 1], c=\"red\",  edgecolor='white', label=labels[1])\n",
        "\n",
        "\n",
        "def plot_confusion_matrix(cm, classes,\n",
        "                          normalize=False,\n",
        "                          title='Confusion matrix',\n",
        "                          cmap=plt.cm.Blues):\n",
        "    \n",
        "    if normalize:\n",
        "        cm = cm.astype('float') / cm.sum(axis=1)[:, np.newaxis]\n",
        "\n",
        "    plt.imshow(cm, interpolation='nearest', cmap=cmap)\n",
        "    plt.title(title)\n",
        "    plt.colorbar()\n",
        "    tick_marks = np.arange(len(classes))\n",
        "    plt.xticks(tick_marks, classes, rotation=45)\n",
        "    plt.yticks(tick_marks, classes)\n",
        "\n",
        "    fmt = '.2f' if normalize else 'd'\n",
        "    thresh = cm.max() / 2.\n",
        "    for i, j in itertools.product(range(cm.shape[0]), range(cm.shape[1])):\n",
        "        plt.text(j, i, format(cm[i, j], fmt),\n",
        "                 horizontalalignment=\"center\",\n",
        "                 color=\"white\" if cm[i, j] > thresh else \"black\")\n",
        "\n",
        "    plt.ylabel('True label')\n",
        "    plt.xlabel('Predicted label')\n",
        "    plt.tight_layout()"
      ],
      "execution_count": null,
      "outputs": []
    },
    {
      "cell_type": "code",
      "metadata": {
        "id": "0SExxeaHPEx1"
      },
      "source": [
        ""
      ],
      "execution_count": null,
      "outputs": []
    }
  ]
}