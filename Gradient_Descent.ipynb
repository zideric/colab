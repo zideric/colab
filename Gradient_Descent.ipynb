{
  "nbformat": 4,
  "nbformat_minor": 0,
  "metadata": {
    "colab": {
      "name": "Gradient Descent.ipynb",
      "provenance": [],
      "collapsed_sections": [],
      "authorship_tag": "ABX9TyNQ11KGtQ+Ohhb82uc+Ol1R",
      "include_colab_link": true
    },
    "kernelspec": {
      "display_name": "Python 3",
      "name": "python3"
    }
  },
  "cells": [
    {
      "cell_type": "markdown",
      "metadata": {
        "id": "view-in-github",
        "colab_type": "text"
      },
      "source": [
        "<a href=\"https://colab.research.google.com/github/zideric/colab/blob/main/Gradient_Descent.ipynb\" target=\"_parent\"><img src=\"https://colab.research.google.com/assets/colab-badge.svg\" alt=\"Open In Colab\"/></a>"
      ]
    },
    {
      "cell_type": "markdown",
      "metadata": {
        "id": "_g_zsZKB-0qF"
      },
      "source": [
        "# Stochastic, Mini batch e Full batch Gradient Descent\n",
        "\n",
        "vediamo le tre varianti dell'algoritmo di ottimizzazione\n",
        "\n",
        "* **Full Batch:** utilizza tutti gli esempi per correggere i coefficienti\n",
        "* **Stochasti:** un solo esempio per volta per correggere i coefficienti\n",
        "* **Mini Batch:** utilizza un determinato numero di esempio per volta per correggere i coefficienti\n",
        "\n",
        "utilizziamo il [Fashion MNIST dataset](https://github.com/zalandoresearch/fashion-mnist), contiene capi di abbigliamento corrrettamente classificati, creato da Zalando\n",
        "\n",
        "Importiamo i moduli"
      ]
    },
    {
      "cell_type": "code",
      "metadata": {
        "id": "HKQFRiVI_d1g"
      },
      "source": [
        "import numpy as np\n",
        "import matplotlib.pyplot as plt\n",
        "\n",
        "from keras.models import Sequential\n",
        "from keras.layers import Dense\n",
        "\n",
        "from time import time\n",
        "\n",
        "#definisco la funzione di profession AI per poter riprodurre i risultati in questo notebook\n",
        "\n",
        "def set_seed(seed):\n",
        "    from os import environ\n",
        "    environ[\"PYTHONHASHSEED\"] = '0'\n",
        "    environ[\"CUDA_VISIBLE_DEVICES\"]='-1'\n",
        "    environ[\"TF_CUDNN_USE_AUTOTUNE\"] ='0'\n",
        "\n",
        "    from numpy.random import seed as np_seed\n",
        "    np_seed(seed)\n",
        "    import random\n",
        "    random.seed(seed)\n",
        "    from tensorflow import set_random_seed\n",
        "    set_random_seed(seed)"
      ],
      "execution_count": 1,
      "outputs": []
    },
    {
      "cell_type": "markdown",
      "metadata": {
        "id": "iTeGA9WxACYW"
      },
      "source": [
        "## Preparazione dei dati\n",
        "\n",
        "carichiamo il dataset direttamente da Keras."
      ]
    },
    {
      "cell_type": "code",
      "metadata": {
        "colab": {
          "base_uri": "https://localhost:8080/"
        },
        "id": "lq-VAny2_82r",
        "outputId": "b52e41cd-c27c-4a47-e2a3-46a3c510409a"
      },
      "source": [
        "from keras.datasets import fashion_mnist\n",
        "\n",
        "labels = [\"T-shirt/top\",\"Pantalone\",\"Pullover\",\"Vestito\",\"Cappotto\",\"Sandalo\",\"Maglietta\",\"Sneaker\",\"Borsa\",\"Stivaletto\"]\n",
        "\n",
        "(X_train, y_train),(X_test, y_test) = fashion_mnist.load_data()\n",
        "\n",
        "print(\"Numero di proprieta: \" + str(X_train.shape[1]))\n",
        "print(\"Esempi di training: \" + str(X_train.shape[0]))\n",
        "print(\"Esempi di test: \" + str(X_test.shape[0]))\n",
        "\n"
      ],
      "execution_count": 2,
      "outputs": [
        {
          "output_type": "stream",
          "text": [
            "Downloading data from https://storage.googleapis.com/tensorflow/tf-keras-datasets/train-labels-idx1-ubyte.gz\n",
            "32768/29515 [=================================] - 0s 0us/step\n",
            "Downloading data from https://storage.googleapis.com/tensorflow/tf-keras-datasets/train-images-idx3-ubyte.gz\n",
            "26427392/26421880 [==============================] - 0s 0us/step\n",
            "Downloading data from https://storage.googleapis.com/tensorflow/tf-keras-datasets/t10k-labels-idx1-ubyte.gz\n",
            "8192/5148 [===============================================] - 0s 0us/step\n",
            "Downloading data from https://storage.googleapis.com/tensorflow/tf-keras-datasets/t10k-images-idx3-ubyte.gz\n",
            "4423680/4422102 [==============================] - 0s 0us/step\n",
            "Numero di proprieta: 28\n",
            "Esempi di training: 60000\n",
            "Esempi di test: 10000\n"
          ],
          "name": "stdout"
        }
      ]
    },
    {
      "cell_type": "markdown",
      "metadata": {
        "id": "DHSZ0U4hBA-5"
      },
      "source": [
        "l'immagine è rappresentata da una matrice di 28*28 pixel\n",
        "visualizziamone una"
      ]
    },
    {
      "cell_type": "code",
      "metadata": {
        "colab": {
          "base_uri": "https://localhost:8080/",
          "height": 265
        },
        "id": "NrkL27g9AiA2",
        "outputId": "595c9acf-20a8-4456-bdf4-119bc90afd41"
      },
      "source": [
        "plt.axis(\"off\") \n",
        "plt.imshow(X_train[1],cmap=\"gray\")\n",
        "print(\"L'immagine raffigura un/o %s\" % labels[y_train[1]])\n"
      ],
      "execution_count": 3,
      "outputs": [
        {
          "output_type": "stream",
          "text": [
            "L'immagine raffigura un/o T-shirt/top\n"
          ],
          "name": "stdout"
        },
        {
          "output_type": "display_data",
          "data": {
            "image/png": "[encoded data removed]",
            "text/plain": [
              "<Figure size 432x288 with 1 Axes>"
            ]
          },
          "metadata": {
            "tags": [],
            "needs_background": "light"
          }
        }
      ]
    },
    {
      "cell_type": "markdown",
      "metadata": {
        "id": "R6GyE-VhB07a"
      },
      "source": [
        "visto che ogni singolo elemmento (osservazione) è una matrice 28*28 dobbiamo convertire questa matrice in un singolo vettore da dare in input al modello. Usiamo reshape (al contrario del solito per visualizzare immagine)"
      ]
    },
    {
      "cell_type": "code",
      "metadata": {
        "colab": {
          "base_uri": "https://localhost:8080/"
        },
        "id": "pgRxKrQzCR8B",
        "outputId": "95c4d840-c74f-449b-e903-bbce01ca8d98"
      },
      "source": [
        "X_train.shape"
      ],
      "execution_count": 4,
      "outputs": [
        {
          "output_type": "execute_result",
          "data": {
            "text/plain": [
              "(60000, 28, 28)"
            ]
          },
          "metadata": {
            "tags": []
          },
          "execution_count": 4
        }
      ]
    },
    {
      "cell_type": "code",
      "metadata": {
        "colab": {
          "base_uri": "https://localhost:8080/"
        },
        "id": "m3_gjf6RAurb",
        "outputId": "4e06e0e2-5b03-4175-9f69-9a1502037087"
      },
      "source": [
        "X_train = X_train.reshape(X_train.shape[0],28*28)\n",
        "X_test = X_test.reshape(X_test.shape[0],28*28)\n",
        "\n",
        "X_train.shape"
      ],
      "execution_count": 5,
      "outputs": [
        {
          "output_type": "execute_result",
          "data": {
            "text/plain": [
              "(60000, 784)"
            ]
          },
          "metadata": {
            "tags": []
          },
          "execution_count": 5
        }
      ]
    },
    {
      "cell_type": "markdown",
      "metadata": {
        "id": "zZ03ecBcCgwV"
      },
      "source": [
        "standardizziamo i valori, anche in questo caso ci basta dividere ogni valore per 255 visto che 255 è il valore massimo e 0 il valore minimo"
      ]
    },
    {
      "cell_type": "code",
      "metadata": {
        "id": "hiqghcJcBolV"
      },
      "source": [
        "X_train = X_train/255\n",
        "X_test = X_test/255"
      ],
      "execution_count": 6,
      "outputs": []
    },
    {
      "cell_type": "markdown",
      "metadata": {
        "id": "9POewYntCv2m"
      },
      "source": [
        "Gli array con i target contengono un valore numerico che va da 0 a 9, questo numero rappresenta la categoria di appartenenza del prodotto.\n",
        "per poter eseguire la classificazione multiclasse dobbiamo crare 10 variabili dumm per ogni osservaizone, una per ogni classe, quella con il valore 1 sarà la classe identificata dal modelllo (creiamo un array di 10 elementi per ogni target)"
      ]
    },
    {
      "cell_type": "code",
      "metadata": {
        "id": "f5uiPbV5Csep"
      },
      "source": [
        "from keras.utils import to_categorical\n",
        "\n",
        "num_classes = 10\n",
        "\n",
        "y_train_dummy = to_categorical(y_train, num_classes)\n",
        "y_test_dumyy = to_categorical(y_test, num_classes)"
      ],
      "execution_count": 7,
      "outputs": []
    },
    {
      "cell_type": "markdown",
      "metadata": {
        "id": "wxGVlszjDSwk"
      },
      "source": [
        "## Full batch\n",
        "\n",
        "creiamo il modello, usiamo la stessa architettura del notebook precedente"
      ]
    },
    {
      "cell_type": "code",
      "metadata": {
        "id": "s8PW3UaqFcF_"
      },
      "source": [
        "import numpy as np\n",
        "import matplotlib.pyplot as plt\n",
        "\n",
        "from keras.models import Sequential\n",
        "from keras.layers import Dense\n",
        "\n",
        "from time import time\n",
        "\n",
        "#definisco la funzione di profession AI per poter riprodurre i risultati in questo notebook\n",
        "\n",
        "def set_seed(seed):\n",
        "    from os import environ\n",
        "    environ[\"PYTHONHASHSEED\"] = '0'\n",
        "    environ[\"CUDA_VISIBLE_DEVICES\"]='-1'\n",
        "    environ[\"TF_CUDNN_USE_AUTOTUNE\"] ='0'\n",
        "\n",
        "    from numpy.random import seed as np_seed\n",
        "    np_seed(seed)\n",
        "    import random\n",
        "    random.seed(seed)\n",
        "    from tensorflow import set_random_seed\n",
        "    set_random_seed(seed)"
      ],
      "execution_count": 8,
      "outputs": []
    },
    {
      "cell_type": "code",
      "metadata": {
        "id": "A1qodKfSFbKQ"
      },
      "source": [
        "import numpy as np\n",
        "import matplotlib.pyplot as plt\n",
        "\n",
        "from keras.models import Sequential\n",
        "from keras.layers import Dense\n",
        "\n",
        "from time import time\n",
        "\n",
        "#definisco la funzione di profession AI per poter riprodurre i risultati in questo notebook\n",
        "\n",
        "def set_seed(seed):\n",
        "    from os import environ\n",
        "    environ[\"PYTHONHASHSEED\"] = '0'\n",
        "    environ[\"CUDA_VISIBLE_DEVICES\"]='-1'\n",
        "    environ[\"TF_CUDNN_USE_AUTOTUNE\"] ='0'\n",
        "\n",
        "    from numpy.random import seed as np_seed\n",
        "    np_seed(seed)\n",
        "    import random\n",
        "    random.seed(seed)\n",
        "    from tensorflow import set_random_seed\n",
        "    set_random_seed(seed)"
      ],
      "execution_count": 9,
      "outputs": []
    },
    {
      "cell_type": "code",
      "metadata": {
        "id": "vcg6kXjTDQ0b"
      },
      "source": [
        "#set_seed(0)  #peer riprodurre i risultati come il corso\n",
        "import tensorflow\n",
        "tensorflow.random.set_seed(0\n",
        "                           )\n",
        "\n",
        "\n",
        "model = Sequential()\n",
        "model.add(Dense(512, activation='relu', input_dim=X_train.shape[1]))\n",
        "model.add(Dense(256, activation='relu'))\n",
        "model.add(Dense(128, activation='relu'))\n",
        "model.add(Dense(num_classes, activation='softmax')) #neurone di optput mettiamo softmax\n"
      ],
      "execution_count": 10,
      "outputs": []
    },
    {
      "cell_type": "code",
      "metadata": {
        "colab": {
          "base_uri": "https://localhost:8080/"
        },
        "id": "lcik4eUrD1Hv",
        "outputId": "0474ba14-71d7-4d8b-c0ff-aa61045ddfc0"
      },
      "source": [
        "model.summary()"
      ],
      "execution_count": 11,
      "outputs": [
        {
          "output_type": "stream",
          "text": [
            "Model: \"sequential\"\n",
            "_________________________________________________________________\n",
            "Layer (type)                 Output Shape              Param #   \n",
            "=================================================================\n",
            "dense (Dense)                (None, 512)               401920    \n",
            "_________________________________________________________________\n",
            "dense_1 (Dense)              (None, 256)               131328    \n",
            "_________________________________________________________________\n",
            "dense_2 (Dense)              (None, 128)               32896     \n",
            "_________________________________________________________________\n",
            "dense_3 (Dense)              (None, 10)                1290      \n",
            "=================================================================\n",
            "Total params: 567,434\n",
            "Trainable params: 567,434\n",
            "Non-trainable params: 0\n",
            "_________________________________________________________________\n"
          ],
          "name": "stdout"
        }
      ]
    },
    {
      "cell_type": "markdown",
      "metadata": {
        "id": "Uev83n3cD8xf"
      },
      "source": [
        "sono oltre mezzo milione di parametri. Utilizziamo il metodo compile per preparare il modello per l'addestramento. \n",
        "Come ottimizzatore usiamo sempre lo stochastic (sgd, vediamo perche bisogna specificare sempre questo anche se vogliamo full batch)"
      ]
    },
    {
      "cell_type": "code",
      "metadata": {
        "id": "uLrWIDTSD7V1"
      },
      "source": [
        "model.compile(loss='categorical_crossentropy', optimizer='sgd',metrics=['accuracy'])"
      ],
      "execution_count": 12,
      "outputs": []
    },
    {
      "cell_type": "markdown",
      "metadata": {
        "id": "qyVLs_DpEao9"
      },
      "source": [
        "Adesso, per utilizzare il full batch gradient descent, non dobbiamo far altro che specificare all'interno del metodo fit che la dimensione di un batch deve essere pari al numero di osservazioni nel set di addestramento, in tal modo l'algoritmo di ottimizzazione utilizzerà un unico batch con tutte le osservazioni ad ogni iterazione del gradient descent.\n",
        "Per poter costruire un grafico della funzione di costo ad ogni epoca dobbiamo tener traccia di questi valori, per farlo dobbiamo definire un callback."
      ]
    },
    {
      "cell_type": "code",
      "metadata": {
        "colab": {
          "base_uri": "https://localhost:8080/"
        },
        "id": "Q3CxiBoLEWqT",
        "outputId": "44d1ea8c-f6ec-4ebd-cb4d-5c1cf4e30d72"
      },
      "source": [
        "from keras.callbacks import History\n",
        "\n",
        "history = History()\n",
        "\n",
        "start_at = time()\n",
        "model.fit(X_train, y_train_dummy, epochs=10, batch_size=X_train.shape[0],callbacks=[history])\n",
        "exec_time= time()-start_at\n",
        "\n",
        "print(\"Tempo di addestramento: %d minuti e %d secondi\" % (exec_time/60, exec_time%60))"
      ],
      "execution_count": 13,
      "outputs": [
        {
          "output_type": "stream",
          "text": [
            "Epoch 1/10\n",
            "1/1 [==============================] - 4s 4s/step - loss: 2.4030 - accuracy: 0.0945\n",
            "Epoch 2/10\n",
            "1/1 [==============================] - 3s 3s/step - loss: 2.3737 - accuracy: 0.0919\n",
            "Epoch 3/10\n",
            "1/1 [==============================] - 3s 3s/step - loss: 2.3477 - accuracy: 0.0898\n",
            "Epoch 4/10\n",
            "1/1 [==============================] - 3s 3s/step - loss: 2.3245 - accuracy: 0.0915\n",
            "Epoch 5/10\n",
            "1/1 [==============================] - 3s 3s/step - loss: 2.3036 - accuracy: 0.0982\n",
            "Epoch 6/10\n",
            "1/1 [==============================] - 3s 3s/step - loss: 2.2844 - accuracy: 0.1115\n",
            "Epoch 7/10\n",
            "1/1 [==============================] - 3s 3s/step - loss: 2.2665 - accuracy: 0.1303\n",
            "Epoch 8/10\n",
            "1/1 [==============================] - 3s 3s/step - loss: 2.2497 - accuracy: 0.1525\n",
            "Epoch 9/10\n",
            "1/1 [==============================] - 3s 3s/step - loss: 2.2337 - accuracy: 0.1796\n",
            "Epoch 10/10\n",
            "1/1 [==============================] - 3s 3s/step - loss: 2.2183 - accuracy: 0.2095\n",
            "Tempo di addestramento: 0 minuti e 27 secondi\n"
          ],
          "name": "stdout"
        }
      ]
    },
    {
      "cell_type": "markdown",
      "metadata": {
        "id": "6T6xXmDm3cBY"
      },
      "source": [
        "I risultati del modello sono piuttosto scarsi, perché le 100 epoche non erano sufficenti a portare alla convergenza, infatti con ulteriori epoche il modello avrebbe continuato a migliorare.\r\n",
        "Utilizziamo i valori della funzione di costo raccolti per visualizzare la sua variazione a ogni epoche su di un grafico."
      ]
    },
    {
      "cell_type": "code",
      "metadata": {
        "colab": {
          "base_uri": "https://localhost:8080/",
          "height": 638
        },
        "id": "5Gj0ItsKE96v",
        "outputId": "a6d02c21-d82c-4534-fcfd-84f1e4d4b573"
      },
      "source": [
        "plt.figure(figsize=(14,10))\r\n",
        "plt.title(\"Full Batch Gradient Descent\")\r\n",
        "plt.xlabel(\"Epoca\")\r\n",
        "plt.ylabel(\"Log-Loss\")\r\n",
        "plt.plot(history.history['loss'])"
      ],
      "execution_count": 14,
      "outputs": [
        {
          "output_type": "execute_result",
          "data": {
            "text/plain": [
              "[<matplotlib.lines.Line2D at 0x7f645d91cf50>]"
            ]
          },
          "metadata": {
            "tags": []
          },
          "execution_count": 14
        },
        {
          "output_type": "display_data",
          "data": {
            "image/png": "[encoded data removed]",
            "text/plain": [
              "<Figure size 1008x720 with 1 Axes>"
            ]
          },
          "metadata": {
            "tags": [],
            "needs_background": "light"
          }
        }
      ]
    },
    {
      "cell_type": "markdown",
      "metadata": {
        "id": "8wRaCOOt53o_"
      },
      "source": [
        "come si puo osservare, l'errore del modello si è ridotto in maniera pulita senza oscillazioni\r\n",
        "\r\n",
        "## Stochastic Gradient Descent\r\n",
        "\r\n",
        "questo è l'estremo opposto, iniziamo ricostruendo il modello"
      ]
    },
    {
      "cell_type": "code",
      "metadata": {
        "id": "j8wj__4k59ND"
      },
      "source": [
        "tensorflow.random.set_seed(0\r\n",
        "                          ) #per poter riprodurrer i risultati\r\n",
        "\r\n",
        "model = Sequential()\r\n",
        "model.add(Dense(512, activation='relu', input_dim=X_train.shape[1]))\r\n",
        "model.add(Dense(256, activation='relu'))\r\n",
        "model.add(Dense(128, activation='relu'))\r\n",
        "model.add(Dense(num_classes,activation='softmax'))"
      ],
      "execution_count": 15,
      "outputs": []
    },
    {
      "cell_type": "markdown",
      "metadata": {
        "id": "UeJiV9kh8uk5"
      },
      "source": [
        "abbiamo dovuto ricreare il modello altrimenti chiamando il metodo fit l'addestramento sarebbe ripartito da dove si era  fermato all'esecuzione precedente (quindi fino a dove aveva iniziato ad imparare) continuando a ottimizzare i coefficienti che aveva già trovato\r\n",
        "\r\n",
        "compiliamo il modello"
      ]
    },
    {
      "cell_type": "code",
      "metadata": {
        "id": "tfKCHYCN8tN5"
      },
      "source": [
        "model.compile(loss='categorical_crossentropy',optimizer='sgd', metrics=['accuracy'])"
      ],
      "execution_count": 16,
      "outputs": []
    },
    {
      "cell_type": "markdown",
      "metadata": {
        "id": "z_flXpo09Fuy"
      },
      "source": [
        "Adesso, per utilizzare lo Stochastic Gradient Descent, impostiamo come dimensione del singolo batch 1, in modo tale da far utilizzare all'algoritmo di ottimizzazione un esempio per volta. Facendo questo il gradient descent ad ogni epoca viene eseguito un numero di volte pari al numero di esempi nel set di addestramento (nel nostro caso 60.000), ne segue che il completamento di un'epoca richiederà molto più tempo rispetto al full batch. Per questo motivo impostiamo il numero di epoche a 5."
      ]
    },
    {
      "cell_type": "code",
      "metadata": {
        "colab": {
          "base_uri": "https://localhost:8080/",
          "height": 460
        },
        "id": "vypp3YN19FFH",
        "outputId": "49782933-b400-4edd-89ea-8951193c8013"
      },
      "source": [
        "start_at = time()\r\n",
        "model.fit(X_train, y_train_dummy, epochs=5, batch_size=1)\r\n",
        "exec_time = time()- start_at\r\n",
        "\r\n",
        "print(\"Tempo di addestramento: %d minuti e %d secondi\" % (exec_time/60, exec_time%60))"
      ],
      "execution_count": 17,
      "outputs": [
        {
          "output_type": "stream",
          "text": [
            "Epoch 1/5\n",
            "60000/60000 [==============================] - 122s 2ms/step - loss: 0.6336 - accuracy: 0.7683\n",
            "Epoch 2/5\n",
            "29809/60000 [=============>................] - ETA: 1:01 - loss: 0.3985 - accuracy: 0.8520"
          ],
          "name": "stdout"
        },
        {
          "output_type": "error",
          "ename": "KeyboardInterrupt",
          "evalue": "ignored",
          "traceback": [
            "\u001b[0;31m---------------------------------------------------------------------------\u001b[0m",
            "\u001b[0;31mKeyboardInterrupt\u001b[0m                         Traceback (most recent call last)",
            "\u001b[0;32m<ipython-input-17-828f65f10b71>\u001b[0m in \u001b[0;36m<module>\u001b[0;34m()\u001b[0m\n\u001b[1;32m      1\u001b[0m \u001b[0mstart_at\u001b[0m \u001b[0;34m=\u001b[0m \u001b[0mtime\u001b[0m\u001b[0;34m(\u001b[0m\u001b[0;34m)\u001b[0m\u001b[0;34m\u001b[0m\u001b[0;34m\u001b[0m\u001b[0m\n\u001b[0;32m----> 2\u001b[0;31m \u001b[0mmodel\u001b[0m\u001b[0;34m.\u001b[0m\u001b[0mfit\u001b[0m\u001b[0;34m(\u001b[0m\u001b[0mX_train\u001b[0m\u001b[0;34m,\u001b[0m \u001b[0my_train_dummy\u001b[0m\u001b[0;34m,\u001b[0m \u001b[0mepochs\u001b[0m\u001b[0;34m=\u001b[0m\u001b[0;36m5\u001b[0m\u001b[0;34m,\u001b[0m \u001b[0mbatch_size\u001b[0m\u001b[0;34m=\u001b[0m\u001b[0;36m1\u001b[0m\u001b[0;34m)\u001b[0m\u001b[0;34m\u001b[0m\u001b[0;34m\u001b[0m\u001b[0m\n\u001b[0m\u001b[1;32m      3\u001b[0m \u001b[0mexec_time\u001b[0m \u001b[0;34m=\u001b[0m \u001b[0mtime\u001b[0m\u001b[0;34m(\u001b[0m\u001b[0;34m)\u001b[0m\u001b[0;34m-\u001b[0m \u001b[0mstart_at\u001b[0m\u001b[0;34m\u001b[0m\u001b[0;34m\u001b[0m\u001b[0m\n\u001b[1;32m      4\u001b[0m \u001b[0;34m\u001b[0m\u001b[0m\n\u001b[1;32m      5\u001b[0m \u001b[0mprint\u001b[0m\u001b[0;34m(\u001b[0m\u001b[0;34m\"Tempo di addestramento: %d minuti e %d secondi\"\u001b[0m \u001b[0;34m%\u001b[0m \u001b[0;34m(\u001b[0m\u001b[0mexec_time\u001b[0m\u001b[0;34m/\u001b[0m\u001b[0;36m60\u001b[0m\u001b[0;34m,\u001b[0m \u001b[0mexec_time\u001b[0m\u001b[0;34m%\u001b[0m\u001b[0;36m60\u001b[0m\u001b[0;34m)\u001b[0m\u001b[0;34m)\u001b[0m\u001b[0;34m\u001b[0m\u001b[0;34m\u001b[0m\u001b[0m\n",
            "\u001b[0;32m/usr/local/lib/python3.7/dist-packages/tensorflow/python/keras/engine/training.py\u001b[0m in \u001b[0;36mfit\u001b[0;34m(self, x, y, batch_size, epochs, verbose, callbacks, validation_split, validation_data, shuffle, class_weight, sample_weight, initial_epoch, steps_per_epoch, validation_steps, validation_batch_size, validation_freq, max_queue_size, workers, use_multiprocessing)\u001b[0m\n\u001b[1;32m   1098\u001b[0m                 _r=1):\n\u001b[1;32m   1099\u001b[0m               \u001b[0mcallbacks\u001b[0m\u001b[0;34m.\u001b[0m\u001b[0mon_train_batch_begin\u001b[0m\u001b[0;34m(\u001b[0m\u001b[0mstep\u001b[0m\u001b[0;34m)\u001b[0m\u001b[0;34m\u001b[0m\u001b[0;34m\u001b[0m\u001b[0m\n\u001b[0;32m-> 1100\u001b[0;31m               \u001b[0mtmp_logs\u001b[0m \u001b[0;34m=\u001b[0m \u001b[0mself\u001b[0m\u001b[0;34m.\u001b[0m\u001b[0mtrain_function\u001b[0m\u001b[0;34m(\u001b[0m\u001b[0miterator\u001b[0m\u001b[0;34m)\u001b[0m\u001b[0;34m\u001b[0m\u001b[0;34m\u001b[0m\u001b[0m\n\u001b[0m\u001b[1;32m   1101\u001b[0m               \u001b[0;32mif\u001b[0m \u001b[0mdata_handler\u001b[0m\u001b[0;34m.\u001b[0m\u001b[0mshould_sync\u001b[0m\u001b[0;34m:\u001b[0m\u001b[0;34m\u001b[0m\u001b[0;34m\u001b[0m\u001b[0m\n\u001b[1;32m   1102\u001b[0m                 \u001b[0mcontext\u001b[0m\u001b[0;34m.\u001b[0m\u001b[0masync_wait\u001b[0m\u001b[0;34m(\u001b[0m\u001b[0;34m)\u001b[0m\u001b[0;34m\u001b[0m\u001b[0;34m\u001b[0m\u001b[0m\n",
            "\u001b[0;32m/usr/local/lib/python3.7/dist-packages/tensorflow/python/eager/def_function.py\u001b[0m in \u001b[0;36m__call__\u001b[0;34m(self, *args, **kwds)\u001b[0m\n\u001b[1;32m    826\u001b[0m     \u001b[0mtracing_count\u001b[0m \u001b[0;34m=\u001b[0m \u001b[0mself\u001b[0m\u001b[0;34m.\u001b[0m\u001b[0mexperimental_get_tracing_count\u001b[0m\u001b[0;34m(\u001b[0m\u001b[0;34m)\u001b[0m\u001b[0;34m\u001b[0m\u001b[0;34m\u001b[0m\u001b[0m\n\u001b[1;32m    827\u001b[0m     \u001b[0;32mwith\u001b[0m \u001b[0mtrace\u001b[0m\u001b[0;34m.\u001b[0m\u001b[0mTrace\u001b[0m\u001b[0;34m(\u001b[0m\u001b[0mself\u001b[0m\u001b[0;34m.\u001b[0m\u001b[0m_name\u001b[0m\u001b[0;34m)\u001b[0m \u001b[0;32mas\u001b[0m \u001b[0mtm\u001b[0m\u001b[0;34m:\u001b[0m\u001b[0;34m\u001b[0m\u001b[0;34m\u001b[0m\u001b[0m\n\u001b[0;32m--> 828\u001b[0;31m       \u001b[0mresult\u001b[0m \u001b[0;34m=\u001b[0m \u001b[0mself\u001b[0m\u001b[0;34m.\u001b[0m\u001b[0m_call\u001b[0m\u001b[0;34m(\u001b[0m\u001b[0;34m*\u001b[0m\u001b[0margs\u001b[0m\u001b[0;34m,\u001b[0m \u001b[0;34m**\u001b[0m\u001b[0mkwds\u001b[0m\u001b[0;34m)\u001b[0m\u001b[0;34m\u001b[0m\u001b[0;34m\u001b[0m\u001b[0m\n\u001b[0m\u001b[1;32m    829\u001b[0m       \u001b[0mcompiler\u001b[0m \u001b[0;34m=\u001b[0m \u001b[0;34m\"xla\"\u001b[0m \u001b[0;32mif\u001b[0m \u001b[0mself\u001b[0m\u001b[0;34m.\u001b[0m\u001b[0m_experimental_compile\u001b[0m \u001b[0;32melse\u001b[0m \u001b[0;34m\"nonXla\"\u001b[0m\u001b[0;34m\u001b[0m\u001b[0;34m\u001b[0m\u001b[0m\n\u001b[1;32m    830\u001b[0m       \u001b[0mnew_tracing_count\u001b[0m \u001b[0;34m=\u001b[0m \u001b[0mself\u001b[0m\u001b[0;34m.\u001b[0m\u001b[0mexperimental_get_tracing_count\u001b[0m\u001b[0;34m(\u001b[0m\u001b[0;34m)\u001b[0m\u001b[0;34m\u001b[0m\u001b[0;34m\u001b[0m\u001b[0m\n",
            "\u001b[0;32m/usr/local/lib/python3.7/dist-packages/tensorflow/python/eager/def_function.py\u001b[0m in \u001b[0;36m_call\u001b[0;34m(self, *args, **kwds)\u001b[0m\n\u001b[1;32m    853\u001b[0m       \u001b[0;31m# In this case we have created variables on the first call, so we run the\u001b[0m\u001b[0;34m\u001b[0m\u001b[0;34m\u001b[0m\u001b[0;34m\u001b[0m\u001b[0m\n\u001b[1;32m    854\u001b[0m       \u001b[0;31m# defunned version which is guaranteed to never create variables.\u001b[0m\u001b[0;34m\u001b[0m\u001b[0;34m\u001b[0m\u001b[0;34m\u001b[0m\u001b[0m\n\u001b[0;32m--> 855\u001b[0;31m       \u001b[0;32mreturn\u001b[0m \u001b[0mself\u001b[0m\u001b[0;34m.\u001b[0m\u001b[0m_stateless_fn\u001b[0m\u001b[0;34m(\u001b[0m\u001b[0;34m*\u001b[0m\u001b[0margs\u001b[0m\u001b[0;34m,\u001b[0m \u001b[0;34m**\u001b[0m\u001b[0mkwds\u001b[0m\u001b[0;34m)\u001b[0m  \u001b[0;31m# pylint: disable=not-callable\u001b[0m\u001b[0;34m\u001b[0m\u001b[0;34m\u001b[0m\u001b[0m\n\u001b[0m\u001b[1;32m    856\u001b[0m     \u001b[0;32melif\u001b[0m \u001b[0mself\u001b[0m\u001b[0;34m.\u001b[0m\u001b[0m_stateful_fn\u001b[0m \u001b[0;32mis\u001b[0m \u001b[0;32mnot\u001b[0m \u001b[0;32mNone\u001b[0m\u001b[0;34m:\u001b[0m\u001b[0;34m\u001b[0m\u001b[0;34m\u001b[0m\u001b[0m\n\u001b[1;32m    857\u001b[0m       \u001b[0;31m# Release the lock early so that multiple threads can perform the call\u001b[0m\u001b[0;34m\u001b[0m\u001b[0;34m\u001b[0m\u001b[0;34m\u001b[0m\u001b[0m\n",
            "\u001b[0;32m/usr/local/lib/python3.7/dist-packages/tensorflow/python/eager/function.py\u001b[0m in \u001b[0;36m__call__\u001b[0;34m(self, *args, **kwargs)\u001b[0m\n\u001b[1;32m   2941\u001b[0m        filtered_flat_args) = self._maybe_define_function(args, kwargs)\n\u001b[1;32m   2942\u001b[0m     return graph_function._call_flat(\n\u001b[0;32m-> 2943\u001b[0;31m         filtered_flat_args, captured_inputs=graph_function.captured_inputs)  # pylint: disable=protected-access\n\u001b[0m\u001b[1;32m   2944\u001b[0m \u001b[0;34m\u001b[0m\u001b[0m\n\u001b[1;32m   2945\u001b[0m   \u001b[0;34m@\u001b[0m\u001b[0mproperty\u001b[0m\u001b[0;34m\u001b[0m\u001b[0;34m\u001b[0m\u001b[0m\n",
            "\u001b[0;32m/usr/local/lib/python3.7/dist-packages/tensorflow/python/eager/function.py\u001b[0m in \u001b[0;36m_call_flat\u001b[0;34m(self, args, captured_inputs, cancellation_manager)\u001b[0m\n\u001b[1;32m   1917\u001b[0m       \u001b[0;31m# No tape is watching; skip to running the function.\u001b[0m\u001b[0;34m\u001b[0m\u001b[0;34m\u001b[0m\u001b[0;34m\u001b[0m\u001b[0m\n\u001b[1;32m   1918\u001b[0m       return self._build_call_outputs(self._inference_function.call(\n\u001b[0;32m-> 1919\u001b[0;31m           ctx, args, cancellation_manager=cancellation_manager))\n\u001b[0m\u001b[1;32m   1920\u001b[0m     forward_backward = self._select_forward_and_backward_functions(\n\u001b[1;32m   1921\u001b[0m         \u001b[0margs\u001b[0m\u001b[0;34m,\u001b[0m\u001b[0;34m\u001b[0m\u001b[0;34m\u001b[0m\u001b[0m\n",
            "\u001b[0;32m/usr/local/lib/python3.7/dist-packages/tensorflow/python/eager/function.py\u001b[0m in \u001b[0;36mcall\u001b[0;34m(self, ctx, args, cancellation_manager)\u001b[0m\n\u001b[1;32m    558\u001b[0m               \u001b[0minputs\u001b[0m\u001b[0;34m=\u001b[0m\u001b[0margs\u001b[0m\u001b[0;34m,\u001b[0m\u001b[0;34m\u001b[0m\u001b[0;34m\u001b[0m\u001b[0m\n\u001b[1;32m    559\u001b[0m               \u001b[0mattrs\u001b[0m\u001b[0;34m=\u001b[0m\u001b[0mattrs\u001b[0m\u001b[0;34m,\u001b[0m\u001b[0;34m\u001b[0m\u001b[0;34m\u001b[0m\u001b[0m\n\u001b[0;32m--> 560\u001b[0;31m               ctx=ctx)\n\u001b[0m\u001b[1;32m    561\u001b[0m         \u001b[0;32melse\u001b[0m\u001b[0;34m:\u001b[0m\u001b[0;34m\u001b[0m\u001b[0;34m\u001b[0m\u001b[0m\n\u001b[1;32m    562\u001b[0m           outputs = execute.execute_with_cancellation(\n",
            "\u001b[0;32m/usr/local/lib/python3.7/dist-packages/tensorflow/python/eager/execute.py\u001b[0m in \u001b[0;36mquick_execute\u001b[0;34m(op_name, num_outputs, inputs, attrs, ctx, name)\u001b[0m\n\u001b[1;32m     58\u001b[0m     \u001b[0mctx\u001b[0m\u001b[0;34m.\u001b[0m\u001b[0mensure_initialized\u001b[0m\u001b[0;34m(\u001b[0m\u001b[0;34m)\u001b[0m\u001b[0;34m\u001b[0m\u001b[0;34m\u001b[0m\u001b[0m\n\u001b[1;32m     59\u001b[0m     tensors = pywrap_tfe.TFE_Py_Execute(ctx._handle, device_name, op_name,\n\u001b[0;32m---> 60\u001b[0;31m                                         inputs, attrs, num_outputs)\n\u001b[0m\u001b[1;32m     61\u001b[0m   \u001b[0;32mexcept\u001b[0m \u001b[0mcore\u001b[0m\u001b[0;34m.\u001b[0m\u001b[0m_NotOkStatusException\u001b[0m \u001b[0;32mas\u001b[0m \u001b[0me\u001b[0m\u001b[0;34m:\u001b[0m\u001b[0;34m\u001b[0m\u001b[0;34m\u001b[0m\u001b[0m\n\u001b[1;32m     62\u001b[0m     \u001b[0;32mif\u001b[0m \u001b[0mname\u001b[0m \u001b[0;32mis\u001b[0m \u001b[0;32mnot\u001b[0m \u001b[0;32mNone\u001b[0m\u001b[0;34m:\u001b[0m\u001b[0;34m\u001b[0m\u001b[0;34m\u001b[0m\u001b[0m\n",
            "\u001b[0;31mKeyboardInterrupt\u001b[0m: "
          ]
        }
      ]
    },
    {
      "cell_type": "markdown",
      "metadata": {
        "id": "Al2VriFUBLWM"
      },
      "source": [
        "Nel mio caso, l'esecuzione di 5 epoche di stochastic gradient descent ha richiesto 4 volte il tempo del full batch, ma l'addestramento si è concluso con un risultato decisamente migliore.\r\n",
        "\r\n",
        "## Mini Batch Gradient Descent\r\n",
        "\r\n",
        "questa è la versione intermedia e anche quella più consigliata da utilizzare\r\n",
        "\r\n",
        "ricreiamo e ricompiliamo il modello"
      ]
    },
    {
      "cell_type": "code",
      "metadata": {
        "id": "IhBBiPhoBMJ8"
      },
      "source": [
        "tensorflow.random.set_seed(0\r\n",
        "                          ) #per poter riprodurrer i risultati\r\n",
        "\r\n",
        "model = Sequential()\r\n",
        "model.add(Dense(512, activation='relu', input_dim=X_train.shape[1]))\r\n",
        "model.add(Dense(256, activation='relu'))\r\n",
        "model.add(Dense(128, activation='relu'))\r\n",
        "model.add(Dense(num_classes, activation='softmax'))\r\n",
        "\r\n",
        "model.compile(loss='categorical_crossentropy', optimizer='sgd', metrics=['accuracy'])"
      ],
      "execution_count": 22,
      "outputs": []
    },
    {
      "cell_type": "markdown",
      "metadata": {
        "id": "vKT_dfnbBkP0"
      },
      "source": [
        "all'interno del metodo fit specifichiamo la dimensione di ogni batch, i valori consigliati sono quelli in potenza di 2 quindi 32, 64, 128, 256 e 512\r\n",
        "\r\n",
        "optiamo per 512 (farò poi delle prove con i diversi valori)"
      ]
    },
    {
      "cell_type": "code",
      "metadata": {
        "colab": {
          "base_uri": "https://localhost:8080/"
        },
        "id": "pT-9CQx0BxoJ",
        "outputId": "7ead38cb-5335-48c3-f93c-945aad87142d"
      },
      "source": [
        "history = History()\r\n",
        "batch=128\r\n",
        "\r\n",
        "\"\"\"\r\n",
        "128 8 minuti e 17 secondi - loss: 0.1460 - accuracy: 0.9498\r\n",
        "256 6 minuti e 38 secondi - loss: 0.2308 - accuracy: 0.9187\r\n",
        "512 5 minuti e 53 secondi - loss: 0.3057 - accuracy: 0.8917\r\n",
        "\"\"\"\r\n",
        "\r\n",
        "start_at= time()\r\n",
        "model.fit(X_train, y_train_dummy, epochs=100, batch_size=batch, callbacks=[history])\r\n",
        "exec_time = time() - start_at\r\n",
        "\r\n",
        "print(\"Tempo di addestramento: %d minuti e %d secondi\" % (exec_time/60, exec_time%60))"
      ],
      "execution_count": 23,
      "outputs": [
        {
          "output_type": "stream",
          "text": [
            "Epoch 1/100\n",
            "469/469 [==============================] - 5s 10ms/step - loss: 1.4487 - accuracy: 0.5730\n",
            "Epoch 2/100\n",
            "469/469 [==============================] - 5s 10ms/step - loss: 0.6258 - accuracy: 0.7942\n",
            "Epoch 3/100\n",
            "469/469 [==============================] - 5s 10ms/step - loss: 0.5297 - accuracy: 0.8223\n",
            "Epoch 4/100\n",
            "469/469 [==============================] - 5s 10ms/step - loss: 0.4909 - accuracy: 0.8308\n",
            "Epoch 5/100\n",
            "469/469 [==============================] - 5s 10ms/step - loss: 0.4642 - accuracy: 0.8380\n",
            "Epoch 6/100\n",
            "469/469 [==============================] - 5s 10ms/step - loss: 0.4457 - accuracy: 0.8453\n",
            "Epoch 7/100\n",
            "469/469 [==============================] - 5s 10ms/step - loss: 0.4265 - accuracy: 0.8526\n",
            "Epoch 8/100\n",
            "469/469 [==============================] - 5s 10ms/step - loss: 0.4168 - accuracy: 0.8545\n",
            "Epoch 9/100\n",
            "469/469 [==============================] - 5s 10ms/step - loss: 0.4093 - accuracy: 0.8561\n",
            "Epoch 10/100\n",
            "469/469 [==============================] - 5s 10ms/step - loss: 0.3929 - accuracy: 0.8625\n",
            "Epoch 11/100\n",
            "469/469 [==============================] - 5s 10ms/step - loss: 0.3897 - accuracy: 0.8617\n",
            "Epoch 12/100\n",
            "469/469 [==============================] - 5s 10ms/step - loss: 0.3834 - accuracy: 0.8687\n",
            "Epoch 13/100\n",
            "469/469 [==============================] - 5s 10ms/step - loss: 0.3772 - accuracy: 0.8674\n",
            "Epoch 14/100\n",
            "469/469 [==============================] - 5s 10ms/step - loss: 0.3702 - accuracy: 0.8701\n",
            "Epoch 15/100\n",
            "469/469 [==============================] - 5s 10ms/step - loss: 0.3601 - accuracy: 0.8735\n",
            "Epoch 16/100\n",
            "469/469 [==============================] - 5s 10ms/step - loss: 0.3576 - accuracy: 0.8752\n",
            "Epoch 17/100\n",
            "469/469 [==============================] - 5s 10ms/step - loss: 0.3502 - accuracy: 0.8771\n",
            "Epoch 18/100\n",
            "469/469 [==============================] - 5s 10ms/step - loss: 0.3453 - accuracy: 0.8784\n",
            "Epoch 19/100\n",
            "469/469 [==============================] - 5s 10ms/step - loss: 0.3432 - accuracy: 0.8782\n",
            "Epoch 20/100\n",
            "469/469 [==============================] - 5s 11ms/step - loss: 0.3336 - accuracy: 0.8815\n",
            "Epoch 21/100\n",
            "469/469 [==============================] - 5s 11ms/step - loss: 0.3349 - accuracy: 0.8822\n",
            "Epoch 22/100\n",
            "469/469 [==============================] - 5s 10ms/step - loss: 0.3268 - accuracy: 0.8842\n",
            "Epoch 23/100\n",
            "469/469 [==============================] - 5s 10ms/step - loss: 0.3157 - accuracy: 0.8874\n",
            "Epoch 24/100\n",
            "469/469 [==============================] - 5s 10ms/step - loss: 0.3149 - accuracy: 0.8870\n",
            "Epoch 25/100\n",
            "469/469 [==============================] - 5s 10ms/step - loss: 0.3144 - accuracy: 0.8869\n",
            "Epoch 26/100\n",
            "469/469 [==============================] - 5s 10ms/step - loss: 0.3110 - accuracy: 0.8882\n",
            "Epoch 27/100\n",
            "469/469 [==============================] - 5s 10ms/step - loss: 0.3060 - accuracy: 0.8915\n",
            "Epoch 28/100\n",
            "469/469 [==============================] - 5s 10ms/step - loss: 0.3025 - accuracy: 0.8920\n",
            "Epoch 29/100\n",
            "469/469 [==============================] - 5s 10ms/step - loss: 0.3041 - accuracy: 0.8916\n",
            "Epoch 30/100\n",
            "469/469 [==============================] - 5s 10ms/step - loss: 0.3000 - accuracy: 0.8919\n",
            "Epoch 31/100\n",
            "469/469 [==============================] - 5s 10ms/step - loss: 0.2959 - accuracy: 0.8940\n",
            "Epoch 32/100\n",
            "469/469 [==============================] - 5s 10ms/step - loss: 0.2939 - accuracy: 0.8946\n",
            "Epoch 33/100\n",
            "469/469 [==============================] - 5s 10ms/step - loss: 0.2917 - accuracy: 0.8969\n",
            "Epoch 34/100\n",
            "469/469 [==============================] - 5s 10ms/step - loss: 0.2796 - accuracy: 0.9007\n",
            "Epoch 35/100\n",
            "469/469 [==============================] - 5s 10ms/step - loss: 0.2801 - accuracy: 0.9003\n",
            "Epoch 36/100\n",
            "469/469 [==============================] - 5s 10ms/step - loss: 0.2777 - accuracy: 0.9002\n",
            "Epoch 37/100\n",
            "469/469 [==============================] - 5s 11ms/step - loss: 0.2762 - accuracy: 0.9001\n",
            "Epoch 38/100\n",
            "469/469 [==============================] - 5s 11ms/step - loss: 0.2664 - accuracy: 0.9035\n",
            "Epoch 39/100\n",
            "469/469 [==============================] - 5s 11ms/step - loss: 0.2709 - accuracy: 0.9032\n",
            "Epoch 40/100\n",
            "469/469 [==============================] - 5s 11ms/step - loss: 0.2665 - accuracy: 0.9040\n",
            "Epoch 41/100\n",
            "469/469 [==============================] - 5s 11ms/step - loss: 0.2681 - accuracy: 0.9030\n",
            "Epoch 42/100\n",
            "469/469 [==============================] - 5s 11ms/step - loss: 0.2676 - accuracy: 0.9057\n",
            "Epoch 43/100\n",
            "469/469 [==============================] - 5s 11ms/step - loss: 0.2609 - accuracy: 0.9082\n",
            "Epoch 44/100\n",
            "469/469 [==============================] - 5s 11ms/step - loss: 0.2566 - accuracy: 0.9083\n",
            "Epoch 45/100\n",
            "469/469 [==============================] - 5s 11ms/step - loss: 0.2589 - accuracy: 0.9050\n",
            "Epoch 46/100\n",
            "469/469 [==============================] - 5s 11ms/step - loss: 0.2547 - accuracy: 0.9097\n",
            "Epoch 47/100\n",
            "469/469 [==============================] - 5s 11ms/step - loss: 0.2509 - accuracy: 0.9102\n",
            "Epoch 48/100\n",
            "469/469 [==============================] - 5s 11ms/step - loss: 0.2470 - accuracy: 0.9108\n",
            "Epoch 49/100\n",
            "469/469 [==============================] - 5s 11ms/step - loss: 0.2439 - accuracy: 0.9132\n",
            "Epoch 50/100\n",
            "469/469 [==============================] - 5s 11ms/step - loss: 0.2454 - accuracy: 0.9120\n",
            "Epoch 51/100\n",
            "469/469 [==============================] - 5s 11ms/step - loss: 0.2371 - accuracy: 0.9145\n",
            "Epoch 52/100\n",
            "469/469 [==============================] - 5s 11ms/step - loss: 0.2371 - accuracy: 0.9160\n",
            "Epoch 53/100\n",
            "469/469 [==============================] - 5s 11ms/step - loss: 0.2356 - accuracy: 0.9153\n",
            "Epoch 54/100\n",
            "469/469 [==============================] - 5s 11ms/step - loss: 0.2359 - accuracy: 0.9144\n",
            "Epoch 55/100\n",
            "469/469 [==============================] - 5s 11ms/step - loss: 0.2321 - accuracy: 0.9160\n",
            "Epoch 56/100\n",
            "469/469 [==============================] - 5s 11ms/step - loss: 0.2308 - accuracy: 0.9177\n",
            "Epoch 57/100\n",
            "469/469 [==============================] - 5s 11ms/step - loss: 0.2296 - accuracy: 0.9170\n",
            "Epoch 58/100\n",
            "469/469 [==============================] - 5s 11ms/step - loss: 0.2250 - accuracy: 0.9207\n",
            "Epoch 59/100\n",
            "469/469 [==============================] - 5s 11ms/step - loss: 0.2254 - accuracy: 0.9197\n",
            "Epoch 60/100\n",
            "469/469 [==============================] - 5s 11ms/step - loss: 0.2233 - accuracy: 0.9206\n",
            "Epoch 61/100\n",
            "469/469 [==============================] - 5s 11ms/step - loss: 0.2230 - accuracy: 0.9197\n",
            "Epoch 62/100\n",
            "469/469 [==============================] - 5s 11ms/step - loss: 0.2165 - accuracy: 0.9220\n",
            "Epoch 63/100\n",
            "469/469 [==============================] - 5s 11ms/step - loss: 0.2132 - accuracy: 0.9220\n",
            "Epoch 64/100\n",
            "469/469 [==============================] - 5s 11ms/step - loss: 0.2088 - accuracy: 0.9252\n",
            "Epoch 65/100\n",
            "469/469 [==============================] - 5s 11ms/step - loss: 0.2158 - accuracy: 0.9227\n",
            "Epoch 66/100\n",
            "469/469 [==============================] - 5s 11ms/step - loss: 0.2050 - accuracy: 0.9263\n",
            "Epoch 67/100\n",
            "469/469 [==============================] - 5s 11ms/step - loss: 0.2027 - accuracy: 0.9265\n",
            "Epoch 68/100\n",
            "469/469 [==============================] - 5s 11ms/step - loss: 0.2063 - accuracy: 0.9274\n",
            "Epoch 69/100\n",
            "469/469 [==============================] - 5s 11ms/step - loss: 0.1986 - accuracy: 0.9301\n",
            "Epoch 70/100\n",
            "469/469 [==============================] - 5s 11ms/step - loss: 0.1972 - accuracy: 0.9306\n",
            "Epoch 71/100\n",
            "469/469 [==============================] - 5s 11ms/step - loss: 0.1946 - accuracy: 0.9309\n",
            "Epoch 72/100\n",
            "469/469 [==============================] - 5s 11ms/step - loss: 0.2007 - accuracy: 0.9286\n",
            "Epoch 73/100\n",
            "469/469 [==============================] - 5s 11ms/step - loss: 0.1919 - accuracy: 0.9312\n",
            "Epoch 74/100\n",
            "469/469 [==============================] - 5s 11ms/step - loss: 0.1957 - accuracy: 0.9294\n",
            "Epoch 75/100\n",
            "469/469 [==============================] - 5s 11ms/step - loss: 0.1918 - accuracy: 0.9325\n",
            "Epoch 76/100\n",
            "469/469 [==============================] - 5s 11ms/step - loss: 0.1876 - accuracy: 0.9323\n",
            "Epoch 77/100\n",
            "469/469 [==============================] - 5s 11ms/step - loss: 0.1888 - accuracy: 0.9326\n",
            "Epoch 78/100\n",
            "469/469 [==============================] - 5s 11ms/step - loss: 0.1851 - accuracy: 0.9347\n",
            "Epoch 79/100\n",
            "469/469 [==============================] - 5s 11ms/step - loss: 0.1871 - accuracy: 0.9335\n",
            "Epoch 80/100\n",
            "469/469 [==============================] - 5s 11ms/step - loss: 0.1839 - accuracy: 0.9344\n",
            "Epoch 81/100\n",
            "469/469 [==============================] - 5s 11ms/step - loss: 0.1806 - accuracy: 0.9351\n",
            "Epoch 82/100\n",
            "469/469 [==============================] - 5s 11ms/step - loss: 0.1788 - accuracy: 0.9365\n",
            "Epoch 83/100\n",
            "469/469 [==============================] - 5s 11ms/step - loss: 0.1775 - accuracy: 0.9368\n",
            "Epoch 84/100\n",
            "469/469 [==============================] - 5s 11ms/step - loss: 0.1768 - accuracy: 0.9381\n",
            "Epoch 85/100\n",
            "469/469 [==============================] - 5s 11ms/step - loss: 0.1686 - accuracy: 0.9415\n",
            "Epoch 86/100\n",
            "469/469 [==============================] - 5s 11ms/step - loss: 0.1698 - accuracy: 0.9399\n",
            "Epoch 87/100\n",
            "469/469 [==============================] - 5s 11ms/step - loss: 0.1676 - accuracy: 0.9400\n",
            "Epoch 88/100\n",
            "469/469 [==============================] - 5s 11ms/step - loss: 0.1646 - accuracy: 0.9411\n",
            "Epoch 89/100\n",
            "469/469 [==============================] - 5s 11ms/step - loss: 0.1686 - accuracy: 0.9400\n",
            "Epoch 90/100\n",
            "469/469 [==============================] - 5s 11ms/step - loss: 0.1625 - accuracy: 0.9427\n",
            "Epoch 91/100\n",
            "469/469 [==============================] - 5s 11ms/step - loss: 0.1629 - accuracy: 0.9436\n",
            "Epoch 92/100\n",
            "469/469 [==============================] - 5s 11ms/step - loss: 0.1619 - accuracy: 0.9436\n",
            "Epoch 93/100\n",
            "469/469 [==============================] - 5s 11ms/step - loss: 0.1599 - accuracy: 0.9435\n",
            "Epoch 94/100\n",
            "469/469 [==============================] - 5s 11ms/step - loss: 0.1571 - accuracy: 0.9439\n",
            "Epoch 95/100\n",
            "469/469 [==============================] - 5s 11ms/step - loss: 0.1559 - accuracy: 0.9457\n",
            "Epoch 96/100\n",
            "469/469 [==============================] - 5s 11ms/step - loss: 0.1555 - accuracy: 0.9465\n",
            "Epoch 97/100\n",
            "469/469 [==============================] - 5s 11ms/step - loss: 0.1518 - accuracy: 0.9469\n",
            "Epoch 98/100\n",
            "469/469 [==============================] - 5s 11ms/step - loss: 0.1528 - accuracy: 0.9462\n",
            "Epoch 99/100\n",
            "469/469 [==============================] - 5s 11ms/step - loss: 0.1525 - accuracy: 0.9459\n",
            "Epoch 100/100\n",
            "469/469 [==============================] - 5s 11ms/step - loss: 0.1460 - accuracy: 0.9498\n",
            "Tempo di addestramento: 8 minuti e 17 secondi\n"
          ],
          "name": "stdout"
        }
      ]
    },
    {
      "cell_type": "markdown",
      "metadata": {
        "id": "CWVFPRNPDf6z"
      },
      "source": [
        "il mini batch con size di 512 ha richiesto poco piu tempo del full ma ha portato a un risultato estremamente migliore\r\n",
        "\r\n",
        "visualizziamo sul grafico la variazione dell'errore ad ogni epoca\r\n"
      ]
    },
    {
      "cell_type": "code",
      "metadata": {
        "id": "-rNsU9ckDpTc"
      },
      "source": [
        "plt.figure(figsize=(14,10))\r\n",
        "plt.title(\"Mini Batch gradient Descent - Batch Size = 512\")\r\n",
        "plt.xlabel(\"Epoca\")\r\n",
        "plt.ylabel(\"Log-Loss\")\r\n",
        "plt.plot(history.history['loss'])"
      ],
      "execution_count": null,
      "outputs": []
    },
    {
      "cell_type": "markdown",
      "metadata": {
        "id": "FDiYYV7BD-jT"
      },
      "source": [
        "l'errore si è ridotto molto in fretta durante le prime 10 epoche, dopodichè ha continuato a migliorare più lentamento oscillando leggermente."
      ]
    },
    {
      "cell_type": "code",
      "metadata": {
        "id": "i0JOCrM0D7EN"
      },
      "source": [
        "type(history.history)"
      ],
      "execution_count": null,
      "outputs": []
    },
    {
      "cell_type": "code",
      "metadata": {
        "id": "LmsRNFqKEGL6"
      },
      "source": [
        ""
      ],
      "execution_count": null,
      "outputs": []
    }
  ]
}