{
  "nbformat": 4,
  "nbformat_minor": 0,
  "metadata": {
    "colab": {
      "name": "Classificazione Multiclasse.ipynb",
      "provenance": [],
      "authorship_tag": "ABX9TyOgTaRl3HtQU32+CpBj1L9E",
      "include_colab_link": true
    },
    "kernelspec": {
      "name": "python3",
      "display_name": "Python 3"
    }
  },
  "cells": [
    {
      "cell_type": "markdown",
      "metadata": {
        "id": "view-in-github",
        "colab_type": "text"
      },
      "source": [
        "<a href=\"https://colab.research.google.com/github/zideric/colab/blob/main/Classificazione_Multiclasse.ipynb\" target=\"_parent\"><img src=\"https://colab.research.google.com/assets/colab-badge.svg\" alt=\"Open In Colab\"/></a>"
      ]
    },
    {
      "cell_type": "code",
      "metadata": {
        "id": "I6JtxEafp9kJ"
      },
      "source": [
        ""
      ],
      "execution_count": null,
      "outputs": []
    },
    {
      "cell_type": "markdown",
      "metadata": {
        "id": "2460XDJNp-5K"
      },
      "source": [
        "# Classificazione Multiclasse\n",
        "utilizziamo Keras per la classificazione multiclasse. il dataset contiene immagini di numeri scritti a mano da 0 a 9. il modello deve riconoscere l'immagine e attribuire il numero corrispondente\n",
        "\n",
        "Importiamo i moduli\n"
      ]
    },
    {
      "cell_type": "code",
      "metadata": {
        "id": "jFqcoTLJqWSy"
      },
      "source": [
        "import numpy as np\n",
        "import matplotlib.pyplot as plt\n",
        "\n",
        "from keras.models import Sequential\n",
        "from keras.layers import Dense"
      ],
      "execution_count": 2,
      "outputs": []
    },
    {
      "cell_type": "markdown",
      "metadata": {
        "id": "LB6k7ZQMqzEP"
      },
      "source": [
        "## Caricamento del dataset\n",
        "\n",
        "il dataset è da scaricare sul sito MNIST, dobbiamo creare la cartella MNIST e inserire i dati in questa.  \n",
        "Il dataset MNIST va scaricato da questo [link](http://yann.lecun.com/exdb/mnist/), devi scaricare i seguenti 4 files:\n",
        "\n",
        "* train-images-idx3-ubyte.gz\n",
        "* train-labels-idx1-ubyte.gz\n",
        "* t10k-images-idx3-ubyte.gz\n",
        "* t10k-labels-idx1-ubyte.gz\n",
        "poi decomprimili e inseriscili all'interno di una cartella \"MNIST\", senza rinominarli."
      ]
    },
    {
      "cell_type": "code",
      "metadata": {
        "colab": {
          "base_uri": "https://localhost:8080/"
        },
        "id": "moul2cJXqxfA",
        "outputId": "a6857565-1d2a-4657-cc9f-bef7f03154aa"
      },
      "source": [
        "!mkdir MNIST\n"
      ],
      "execution_count": 5,
      "outputs": [
        {
          "output_type": "stream",
          "text": [
            "MNIST  sample_data\n"
          ],
          "name": "stdout"
        }
      ]
    },
    {
      "cell_type": "markdown",
      "metadata": {
        "id": "-r3QTvNksXlR"
      },
      "source": [
        "Colleghiamo google drive cosi possiamo importare i file scaricati dal sito del MNIST"
      ]
    },
    {
      "cell_type": "code",
      "metadata": {
        "colab": {
          "base_uri": "https://localhost:8080/"
        },
        "id": "IZ3ZfJvDsWQW",
        "outputId": "5c60ed2a-78fb-44f5-d348-129f78eae773"
      },
      "source": [
        "from google.colab import drive\n",
        "drive.mount('/content/drive')\n"
      ],
      "execution_count": 10,
      "outputs": [
        {
          "output_type": "stream",
          "text": [
            "Mounted at /content/drive\n"
          ],
          "name": "stdout"
        }
      ]
    },
    {
      "cell_type": "code",
      "metadata": {
        "colab": {
          "base_uri": "https://localhost:8080/"
        },
        "id": "_GYfQ2ivsyp8",
        "outputId": "768965e4-7dfa-4e3e-ddfa-c2335e6e1f9a"
      },
      "source": [
        "!ls drive/MyDrive/'Colab Notebooks'\n"
      ],
      "execution_count": 15,
      "outputs": [
        {
          "output_type": "stream",
          "text": [
            "Udemi_reti_neurali_artificiali.ipynb  Untitled0.ipynb\n"
          ],
          "name": "stdout"
        }
      ]
    },
    {
      "cell_type": "code",
      "metadata": {
        "id": "W3XhBN7wtYPq"
      },
      "source": [
        "!cp drive/MyDrive/Colab\\ Notebooks/*ubyte MNIST/"
      ],
      "execution_count": 16,
      "outputs": []
    },
    {
      "cell_type": "markdown",
      "metadata": {
        "id": "2spNb7kUraNe"
      },
      "source": [
        "la seguente funzione mi permette di caricare i file del MNIST"
      ]
    },
    {
      "cell_type": "code",
      "metadata": {
        "id": "_ElE8cfKsKjL"
      },
      "source": [
        "import numpy as np\n",
        "import os\n",
        "import struct\n",
        "\n",
        "def load_mnist(path=\"/\"):\n",
        "    \n",
        "    train_labels_path = os.path.join(path,\"train-labels-idx1-ubyte\")\n",
        "    train_images_path = os.path.join(path,\"train-images-idx3-ubyte\")\n",
        "    \n",
        "    test_labels_path = os.path.join(path,\"t10k-labels-idx1-ubyte\")\n",
        "    test_images_path = os.path.join(path,\"t10k-images-idx3-ubyte\")\n",
        "    \n",
        "    labels_path = [train_labels_path, test_labels_path]\n",
        "    images_path = [train_images_path, test_images_path]\n",
        "        \n",
        "    labels = []\n",
        "    images = []\n",
        "        \n",
        "    for path in zip(labels_path, images_path):\n",
        "        \n",
        "        with open(path[0],'rb') as lbpath:\n",
        "            magic, n = struct.unpack('>II', lbpath.read(8))\n",
        "            lb = np.fromfile(lbpath, dtype=np.uint8)\n",
        "            labels.append(lb)\n",
        "            \n",
        "        with open(path[1], 'rb') as imgpath:\n",
        "            magic, num, rows, cols = struct.unpack(\">IIII\", imgpath.read(16))\n",
        "            images.append(np.fromfile(imgpath, dtype=np.uint8).reshape(len(lb), 784))\n",
        "            \n",
        "    return images[0], images[1], labels[0], labels[1]"
      ],
      "execution_count": 8,
      "outputs": []
    },
    {
      "cell_type": "markdown",
      "metadata": {
        "id": "PqLT-xB4tjSj"
      },
      "source": [
        "importiamo i file"
      ]
    },
    {
      "cell_type": "code",
      "metadata": {
        "colab": {
          "base_uri": "https://localhost:8080/"
        },
        "id": "s1iyBxhrtq4E",
        "outputId": "2a11b306-a59c-40a7-bbeb-a709e54f6e35"
      },
      "source": [
        "X_train, X_test, y_train, y_test = load_mnist(path=\"MNIST\")\n",
        "print(\"Numero totale di proprietà: \"+str(X_train.shape[1]))\n",
        "print(\"Esempi di training: \"+str(X_train.shape[0]))\n",
        "print(\"Esempi di test: \"+str(X_test.shape[0]))"
      ],
      "execution_count": 17,
      "outputs": [
        {
          "output_type": "stream",
          "text": [
            "Numero totale di proprietà: 784\n",
            "Esempi di training: 60000\n",
            "Esempi di test: 10000\n"
          ],
          "name": "stdout"
        }
      ]
    },
    {
      "cell_type": "markdown",
      "metadata": {
        "id": "R68L5XHVt-i2"
      },
      "source": [
        "Abbiamo 784 proprietà.\n",
        "ogni proprieta (o colonna) rappresenta un pixel dell'immagine, il vettore contiene quindi tutti i pixel su un unica riga.\n",
        "\n",
        "con il metodo reshape lo formattiamo in una matrice 28*28 e con imshow di matplot la visualizziamo\n",
        "\n",
        "il dataset è composto da 60000 elementi per il training e 10000 per il test"
      ]
    },
    {
      "cell_type": "code",
      "metadata": {
        "colab": {
          "base_uri": "https://localhost:8080/",
          "height": 265
        },
        "id": "avGt2HwkuqRJ",
        "outputId": "c0387eca-d45a-4146-9eb7-a075876969dd"
      },
      "source": [
        "plt.imshow(X_train[0].reshape([28,28]),cmap=\"gray\")\n",
        "plt.axis('off') #rimuoviamo i valori sulle assi\n",
        "print(\"la cifra nell'immagine è un %d\" % y_train[0])"
      ],
      "execution_count": 18,
      "outputs": [
        {
          "output_type": "stream",
          "text": [
            "la cifra nell'immagine è un 5\n"
          ],
          "name": "stdout"
        },
        {
          "output_type": "display_data",
          "data": {
            "image/png": "[encoded data removed]",
            "text/plain": [
              "<Figure size 432x288 with 1 Axes>"
            ]
          },
          "metadata": {
            "tags": [],
            "needs_background": "light"
          }
        }
      ]
    },
    {
      "cell_type": "markdown",
      "metadata": {
        "id": "CLHZRJFeuhw6"
      },
      "source": [
        "## Processing dei dati\n",
        "l'output è espresso da un numero che vsa da 0 a 9 e rappresenta l'immagine mostrata.\n",
        "\n",
        "la nostra rete quindi dovrà avere 10 NODI di output, quindi dobbiamo creare 10 output differenti utilizzando delle dummy variables"
      ]
    },
    {
      "cell_type": "code",
      "metadata": {
        "colab": {
          "base_uri": "https://localhost:8080/"
        },
        "id": "DVbsGhDTvUA4",
        "outputId": "dd3cf1e3-dbb0-4984-b46a-f7a2f3b9d1c3"
      },
      "source": [
        "from keras.utils import to_categorical\n",
        "\n",
        "num_classes=10\n",
        "\n",
        "y_train_dummy = to_categorical(y_train,num_classes)\n",
        "y_test_dummy = to_categorical(y_test, num_classes)\n",
        "\n",
        "y_train_dummy[0] #il valore è 5 e il risultato è il seguente dopo in corrispondenza del 5 valore abbiamo 1, negli altri abbiamo 0 \n"
      ],
      "execution_count": 19,
      "outputs": [
        {
          "output_type": "execute_result",
          "data": {
            "text/plain": [
              "array([0., 0., 0., 0., 0., 1., 0., 0., 0., 0.], dtype=float32)"
            ]
          },
          "metadata": {
            "tags": []
          },
          "execution_count": 19
        }
      ]
    },
    {
      "cell_type": "markdown",
      "metadata": {
        "id": "q2tbToTcwHSX"
      },
      "source": [
        "Trattandosi di immagini è opportuno eseguire la normalizzazione. Siccome i valori vanno da 0 a 255 in questo caso non ci serve appoggiarci su funzioni di normalizzazione, ci basta dividiere tutti i valori per 255 (che è il valore massimo)"
      ]
    },
    {
      "cell_type": "code",
      "metadata": {
        "colab": {
          "base_uri": "https://localhost:8080/"
        },
        "id": "c5UktSdlvvTc",
        "outputId": "d80a3d9c-d7db-4712-ef51-ffc706b1dc94"
      },
      "source": [
        "y_train[0]\n",
        "\n"
      ],
      "execution_count": 21,
      "outputs": [
        {
          "output_type": "execute_result",
          "data": {
            "text/plain": [
              "5"
            ]
          },
          "metadata": {
            "tags": []
          },
          "execution_count": 21
        }
      ]
    },
    {
      "cell_type": "code",
      "metadata": {
        "id": "_6oU-QUbvoZs"
      },
      "source": [
        ""
      ],
      "execution_count": null,
      "outputs": []
    }
  ]
}