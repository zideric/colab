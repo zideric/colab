{
  "nbformat": 4,
  "nbformat_minor": 0,
  "metadata": {
    "colab": {
      "name": "ConvNet con Keras (e Pooling).ipynb",
      "provenance": [],
      "collapsed_sections": [],
      "authorship_tag": "ABX9TyNxKQCs+PMQQgAfEFw5MS1L",
      "include_colab_link": true
    },
    "kernelspec": {
      "name": "python3",
      "display_name": "Python 3"
    },
    "accelerator": "GPU"
  },
  "cells": [
    {
      "cell_type": "markdown",
      "metadata": {
        "id": "view-in-github",
        "colab_type": "text"
      },
      "source": [
        "<a href=\"https://colab.research.google.com/github/zideric/colab/blob/main/ConvNet_con_Keras_(e_Pooling).ipynb\" target=\"_parent\"><img src=\"https://colab.research.google.com/assets/colab-badge.svg\" alt=\"Open In Colab\"/></a>"
      ]
    },
    {
      "cell_type": "markdown",
      "metadata": {
        "id": "EWipjqotDCl5"
      },
      "source": [
        "# ConvNet con Keras\r\n",
        "\r\n",
        "creaimo una rete neurale convoluzionale con Keras. usiamo sempre il Fashion-MNIST. al termine vedremo quanto con la convoluzione il metodo è migliore rispetto alla semplice rete neurale che abbiamo creato nei precedenti Notebook\r\n",
        "\r\n",
        "importiamo i moduli"
      ]
    },
    {
      "cell_type": "code",
      "metadata": {
        "id": "d0znMyMwC00F"
      },
      "source": [
        "import numpy as np\r\n",
        "import matplotlib.pyplot as plt\r\n",
        "\r\n",
        "from keras.models import Sequential\r\n",
        "from keras.layers import Dense\r\n",
        "\r\n",
        "from keras.utils import to_categorical"
      ],
      "execution_count": 2,
      "outputs": []
    },
    {
      "cell_type": "markdown",
      "metadata": {
        "id": "gfeH9zFbDgM4"
      },
      "source": [
        "carichiamo il fashion-MNIST all'interno di due array numpy"
      ]
    },
    {
      "cell_type": "code",
      "metadata": {
        "colab": {
          "base_uri": "https://localhost:8080/"
        },
        "id": "Ri9HW1TNDfiO",
        "outputId": "639ff2d4-933c-4172-efa0-6e066938a367"
      },
      "source": [
        "from keras.datasets import fashion_mnist\r\n",
        "\r\n",
        "labels = [\"T-shirt/top\",\"Pantalone\",\"Pullover\",\"Vestito\",\"Cappotto\",\"Sandalo\",\"Maglietta\",\"Sneaker\",\"Borsa\",\"Stivaletto\"]\r\n",
        "\r\n",
        "(X_train, y_train) ,(X_test, y_test) = fashion_mnist.load_data()\r\n",
        "\r\n",
        "print(\"Numero totale di proprietà: \"+str(X_train.shape[1]))\r\n",
        "print(\"Esempi di training: \"+str(X_train.shape[0]))\r\n",
        "print(\"Esempi di test: \"+str(X_test.shape[0]))"
      ],
      "execution_count": 3,
      "outputs": [
        {
          "output_type": "stream",
          "text": [
            "Downloading data from https://storage.googleapis.com/tensorflow/tf-keras-datasets/train-labels-idx1-ubyte.gz\n",
            "32768/29515 [=================================] - 0s 0us/step\n",
            "Downloading data from https://storage.googleapis.com/tensorflow/tf-keras-datasets/train-images-idx3-ubyte.gz\n",
            "26427392/26421880 [==============================] - 0s 0us/step\n",
            "Downloading data from https://storage.googleapis.com/tensorflow/tf-keras-datasets/t10k-labels-idx1-ubyte.gz\n",
            "8192/5148 [===============================================] - 0s 0us/step\n",
            "Downloading data from https://storage.googleapis.com/tensorflow/tf-keras-datasets/t10k-images-idx3-ubyte.gz\n",
            "4423680/4422102 [==============================] - 0s 0us/step\n",
            "Numero totale di proprietà: 28\n",
            "Esempi di training: 60000\n",
            "Esempi di test: 10000\n"
          ],
          "name": "stdout"
        }
      ]
    },
    {
      "cell_type": "markdown",
      "metadata": {
        "id": "AgBY96T7Ey-6"
      },
      "source": [
        "normalizziamo i dati\r\n"
      ]
    },
    {
      "cell_type": "code",
      "metadata": {
        "id": "v5NRK-26Ei9j"
      },
      "source": [
        "X_train = X_train/255\r\n",
        "X_test = X_test/255"
      ],
      "execution_count": 4,
      "outputs": []
    },
    {
      "cell_type": "markdown",
      "metadata": {
        "id": "7FNNHmT7FKDq"
      },
      "source": [
        "L'input di una rete convoluzionale deve avere dimensione del tipo NHW*C, dove:\r\n",
        "\r\n",
        "* N è il numero di esempi nel dataset\r\n",
        "* H e W sono rispettivamente altezza e larghezza dell'immagine in pixel\r\n",
        "* C sono i canali dell'immagine\r\n",
        "\r\n",
        "Nel caso di un'immagine a colori (formato RGB) i canali saranno 3, per un immagine in bianco e nero invece abbiamo un solo canale. Utilizziamo il metodo reshape per modificare la dimensione degli array con le features, in modo da conformarci alle specifiche di Keras."
      ]
    },
    {
      "cell_type": "code",
      "metadata": {
        "colab": {
          "base_uri": "https://localhost:8080/"
        },
        "id": "jKbFDitXFJok",
        "outputId": "8486abfd-46d7-4aeb-f9fd-de0538856aa4"
      },
      "source": [
        "print(X_train.shape[0])\r\n",
        "print(X_train.shape[1])\r\n",
        "print(X_train.shape[2])\r\n",
        "\r\n",
        "X_train = X_train.reshape(X_train.shape[0], X_train.shape[1],X_train.shape[2], 1)\r\n",
        "X_test = X_test.reshape(X_test.shape[0], X_test.shape[1],X_test.shape[2], 1)\r\n",
        "X_train.shape"
      ],
      "execution_count": 5,
      "outputs": [
        {
          "output_type": "stream",
          "text": [
            "60000\n",
            "28\n",
            "28\n"
          ],
          "name": "stdout"
        },
        {
          "output_type": "execute_result",
          "data": {
            "text/plain": [
              "(60000, 28, 28, 1)"
            ]
          },
          "metadata": {
            "tags": []
          },
          "execution_count": 5
        }
      ]
    },
    {
      "cell_type": "markdown",
      "metadata": {
        "id": "xVt3aIKpHP-0"
      },
      "source": [
        "creiamo le variabili di comodo per il target"
      ]
    },
    {
      "cell_type": "code",
      "metadata": {
        "id": "08kJ7qhWHIS_"
      },
      "source": [
        "y_train = to_categorical(y_train, 10)\r\n",
        "y_test = to_categorical(y_test, 10)"
      ],
      "execution_count": 6,
      "outputs": []
    },
    {
      "cell_type": "markdown",
      "metadata": {
        "id": "K6wvyJT9HYFT"
      },
      "source": [
        "## Creiamo il modello"
      ]
    },
    {
      "cell_type": "code",
      "metadata": {
        "colab": {
          "base_uri": "https://localhost:8080/"
        },
        "id": "FfsfUwGDHWwV",
        "outputId": "fbee9fdd-736d-4c47-bda6-33244f522b8e"
      },
      "source": [
        "from keras.layers import Conv2D, Flatten, Dropout\r\n",
        "\r\n",
        "model = Sequential()\r\n",
        "\r\n",
        "model.add(Conv2D(filters=64, kernel_size=2, padding='same', activation='relu', input_shape=(28,28,1)))\r\n",
        "model.add(Flatten())\r\n",
        "model.add(Dense(128, activation='relu'))\r\n",
        "model.add(Dropout(0.5))\r\n",
        "model.add(Dense(10, activation='softmax'))\r\n",
        "\r\n",
        "model.summary()"
      ],
      "execution_count": 17,
      "outputs": [
        {
          "output_type": "stream",
          "text": [
            "Model: \"sequential_3\"\n",
            "_________________________________________________________________\n",
            "Layer (type)                 Output Shape              Param #   \n",
            "=================================================================\n",
            "conv2d_3 (Conv2D)            (None, 28, 28, 64)        3200      \n",
            "_________________________________________________________________\n",
            "flatten_3 (Flatten)          (None, 50176)             0         \n",
            "_________________________________________________________________\n",
            "dense_6 (Dense)              (None, 128)               6422656   \n",
            "_________________________________________________________________\n",
            "dropout_3 (Dropout)          (None, 128)               0         \n",
            "_________________________________________________________________\n",
            "dense_7 (Dense)              (None, 10)                1290      \n",
            "=================================================================\n",
            "Total params: 6,427,146\n",
            "Trainable params: 6,427,146\n",
            "Non-trainable params: 0\n",
            "_________________________________________________________________\n"
          ],
          "name": "stdout"
        }
      ]
    },
    {
      "cell_type": "code",
      "metadata": {
        "id": "Oyxkq3SVKpEp"
      },
      "source": [
        "model.compile(loss='categorical_crossentropy', optimizer='adam',metrics=['accuracy'])"
      ],
      "execution_count": 18,
      "outputs": []
    },
    {
      "cell_type": "code",
      "metadata": {
        "colab": {
          "base_uri": "https://localhost:8080/"
        },
        "id": "jfkSUvdmLBZO",
        "outputId": "945fdc1e-5935-42b9-a2a4-f182d78e1ca1"
      },
      "source": [
        "model.fit(X_train, y_train, batch_size=512, validation_split=0.2, epochs=10)"
      ],
      "execution_count": 19,
      "outputs": [
        {
          "output_type": "stream",
          "text": [
            "Epoch 1/10\n",
            "94/94 [==============================] - 3s 21ms/step - loss: 0.8702 - accuracy: 0.6976 - val_loss: 0.3606 - val_accuracy: 0.8677\n",
            "Epoch 2/10\n",
            "94/94 [==============================] - 2s 19ms/step - loss: 0.3904 - accuracy: 0.8655 - val_loss: 0.3229 - val_accuracy: 0.8817\n",
            "Epoch 3/10\n",
            "94/94 [==============================] - 2s 19ms/step - loss: 0.3391 - accuracy: 0.8792 - val_loss: 0.2938 - val_accuracy: 0.8923\n",
            "Epoch 4/10\n",
            "94/94 [==============================] - 2s 18ms/step - loss: 0.3029 - accuracy: 0.8899 - val_loss: 0.2822 - val_accuracy: 0.8951\n",
            "Epoch 5/10\n",
            "94/94 [==============================] - 2s 18ms/step - loss: 0.2753 - accuracy: 0.8989 - val_loss: 0.2715 - val_accuracy: 0.9009\n",
            "Epoch 6/10\n",
            "94/94 [==============================] - 2s 19ms/step - loss: 0.2533 - accuracy: 0.9082 - val_loss: 0.2662 - val_accuracy: 0.9032\n",
            "Epoch 7/10\n",
            "94/94 [==============================] - 2s 19ms/step - loss: 0.2351 - accuracy: 0.9137 - val_loss: 0.2659 - val_accuracy: 0.9009\n",
            "Epoch 8/10\n",
            "94/94 [==============================] - 2s 18ms/step - loss: 0.2221 - accuracy: 0.9193 - val_loss: 0.2572 - val_accuracy: 0.9078\n",
            "Epoch 9/10\n",
            "94/94 [==============================] - 2s 19ms/step - loss: 0.2049 - accuracy: 0.9234 - val_loss: 0.2557 - val_accuracy: 0.9078\n",
            "Epoch 10/10\n",
            "94/94 [==============================] - 2s 19ms/step - loss: 0.1960 - accuracy: 0.9279 - val_loss: 0.2542 - val_accuracy: 0.9097\n"
          ],
          "name": "stdout"
        },
        {
          "output_type": "execute_result",
          "data": {
            "text/plain": [
              "<tensorflow.python.keras.callbacks.History at 0x7f2f86efdad0>"
            ]
          },
          "metadata": {
            "tags": []
          },
          "execution_count": 19
        }
      ]
    },
    {
      "cell_type": "markdown",
      "metadata": {
        "id": "O-d9OoTuN_wt"
      },
      "source": [
        "vediamo sul test set\r\n"
      ]
    },
    {
      "cell_type": "code",
      "metadata": {
        "colab": {
          "base_uri": "https://localhost:8080/"
        },
        "id": "Q57DQtW8LJr_",
        "outputId": "97557764-645d-4bc7-d9ef-42e589af4a4b"
      },
      "source": [
        "model.evaluate(X_test, y_test)"
      ],
      "execution_count": 10,
      "outputs": [
        {
          "output_type": "stream",
          "text": [
            "313/313 [==============================] - 1s 2ms/step - loss: 0.2710 - accuracy: 0.9047\n"
          ],
          "name": "stdout"
        },
        {
          "output_type": "execute_result",
          "data": {
            "text/plain": [
              "[0.2709518373012543, 0.904699981212616]"
            ]
          },
          "metadata": {
            "tags": []
          },
          "execution_count": 10
        }
      ]
    },
    {
      "cell_type": "code",
      "metadata": {
        "id": "s4qt3JmaOF4b"
      },
      "source": [
        ""
      ],
      "execution_count": 10,
      "outputs": []
    }
  ]
}