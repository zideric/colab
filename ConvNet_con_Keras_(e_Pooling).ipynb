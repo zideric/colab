{
  "nbformat": 4,
  "nbformat_minor": 0,
  "metadata": {
    "colab": {
      "name": "ConvNet con Keras (e Pooling).ipynb",
      "provenance": [],
      "collapsed_sections": [],
      "authorship_tag": "ABX9TyOyF7nUDB1UUg9btMDtnA5J",
      "include_colab_link": true
    },
    "kernelspec": {
      "name": "python3",
      "display_name": "Python 3"
    },
    "accelerator": "GPU"
  },
  "cells": [
    {
      "cell_type": "markdown",
      "metadata": {
        "id": "view-in-github",
        "colab_type": "text"
      },
      "source": [
        "<a href=\"https://colab.research.google.com/github/zideric/colab/blob/main/ConvNet_con_Keras_(e_Pooling).ipynb\" target=\"_parent\"><img src=\"https://colab.research.google.com/assets/colab-badge.svg\" alt=\"Open In Colab\"/></a>"
      ]
    },
    {
      "cell_type": "markdown",
      "metadata": {
        "id": "EWipjqotDCl5"
      },
      "source": [
        "# ConvNet con Keras\n",
        "\n",
        "creaimo una rete neurale convoluzionale con Keras. usiamo sempre il Fashion-MNIST. al termine vedremo quanto con la convoluzione il metodo è migliore rispetto alla semplice rete neurale che abbiamo creato nei precedenti Notebook\n",
        "\n",
        "importiamo i moduli"
      ]
    },
    {
      "cell_type": "code",
      "metadata": {
        "id": "d0znMyMwC00F"
      },
      "source": [
        "import numpy as np\n",
        "import matplotlib.pyplot as plt\n",
        "\n",
        "from keras.models import Sequential\n",
        "from keras.layers import Dense\n",
        "\n",
        "from keras.utils import to_categorical"
      ],
      "execution_count": 1,
      "outputs": []
    },
    {
      "cell_type": "markdown",
      "metadata": {
        "id": "gfeH9zFbDgM4"
      },
      "source": [
        "carichiamo il fashion-MNIST all'interno di due array numpy"
      ]
    },
    {
      "cell_type": "code",
      "metadata": {
        "colab": {
          "base_uri": "https://localhost:8080/"
        },
        "id": "Ri9HW1TNDfiO",
        "outputId": "05538f35-f5f1-4550-d2a5-1e064d7e2ddc"
      },
      "source": [
        "from keras.datasets import fashion_mnist\n",
        "\n",
        "labels = [\"T-shirt/top\",\"Pantalone\",\"Pullover\",\"Vestito\",\"Cappotto\",\"Sandalo\",\"Maglietta\",\"Sneaker\",\"Borsa\",\"Stivaletto\"]\n",
        "\n",
        "(X_train, y_train) ,(X_test, y_test) = fashion_mnist.load_data()\n",
        "\n",
        "print(\"Numero totale di proprietà: \"+str(X_train.shape[1]))\n",
        "print(\"Esempi di training: \"+str(X_train.shape[0]))\n",
        "print(\"Esempi di test: \"+str(X_test.shape[0]))"
      ],
      "execution_count": 2,
      "outputs": [
        {
          "output_type": "stream",
          "text": [
            "Downloading data from https://storage.googleapis.com/tensorflow/tf-keras-datasets/train-labels-idx1-ubyte.gz\n",
            "32768/29515 [=================================] - 0s 0us/step\n",
            "Downloading data from https://storage.googleapis.com/tensorflow/tf-keras-datasets/train-images-idx3-ubyte.gz\n",
            "26427392/26421880 [==============================] - 0s 0us/step\n",
            "Downloading data from https://storage.googleapis.com/tensorflow/tf-keras-datasets/t10k-labels-idx1-ubyte.gz\n",
            "8192/5148 [===============================================] - 0s 0us/step\n",
            "Downloading data from https://storage.googleapis.com/tensorflow/tf-keras-datasets/t10k-images-idx3-ubyte.gz\n",
            "4423680/4422102 [==============================] - 0s 0us/step\n",
            "Numero totale di proprietà: 28\n",
            "Esempi di training: 60000\n",
            "Esempi di test: 10000\n"
          ],
          "name": "stdout"
        }
      ]
    },
    {
      "cell_type": "markdown",
      "metadata": {
        "id": "AgBY96T7Ey-6"
      },
      "source": [
        "normalizziamo i dati\n"
      ]
    },
    {
      "cell_type": "code",
      "metadata": {
        "id": "v5NRK-26Ei9j"
      },
      "source": [
        "X_train = X_train/255\n",
        "X_test = X_test/255"
      ],
      "execution_count": 3,
      "outputs": []
    },
    {
      "cell_type": "markdown",
      "metadata": {
        "id": "7FNNHmT7FKDq"
      },
      "source": [
        "L'input di una rete convoluzionale deve avere dimensione del tipo NHW*C, dove:\n",
        "\n",
        "* N è il numero di esempi nel dataset\n",
        "* H e W sono rispettivamente altezza e larghezza dell'immagine in pixel\n",
        "* C sono i canali dell'immagine\n",
        "\n",
        "Nel caso di un'immagine a colori (formato RGB) i canali saranno 3, per un immagine in bianco e nero invece abbiamo un solo canale. Utilizziamo il metodo reshape per modificare la dimensione degli array con le features, in modo da conformarci alle specifiche di Keras."
      ]
    },
    {
      "cell_type": "code",
      "metadata": {
        "colab": {
          "base_uri": "https://localhost:8080/"
        },
        "id": "jKbFDitXFJok",
        "outputId": "42a0a501-6c52-4524-969c-0693b8e797aa"
      },
      "source": [
        "print(X_train.shape[0])\n",
        "print(X_train.shape[1])\n",
        "print(X_train.shape[2])\n",
        "\n",
        "X_train = X_train.reshape(X_train.shape[0], X_train.shape[1],X_train.shape[2], 1)\n",
        "X_test = X_test.reshape(X_test.shape[0], X_test.shape[1],X_test.shape[2], 1)\n",
        "X_train.shape"
      ],
      "execution_count": 4,
      "outputs": [
        {
          "output_type": "stream",
          "text": [
            "60000\n",
            "28\n",
            "28\n"
          ],
          "name": "stdout"
        },
        {
          "output_type": "execute_result",
          "data": {
            "text/plain": [
              "(60000, 28, 28, 1)"
            ]
          },
          "metadata": {
            "tags": []
          },
          "execution_count": 4
        }
      ]
    },
    {
      "cell_type": "markdown",
      "metadata": {
        "id": "xVt3aIKpHP-0"
      },
      "source": [
        "creiamo le variabili di comodo per il target"
      ]
    },
    {
      "cell_type": "code",
      "metadata": {
        "id": "08kJ7qhWHIS_"
      },
      "source": [
        "y_train = to_categorical(y_train, 10)\n",
        "y_test = to_categorical(y_test, 10)"
      ],
      "execution_count": 5,
      "outputs": []
    },
    {
      "cell_type": "markdown",
      "metadata": {
        "id": "K6wvyJT9HYFT"
      },
      "source": [
        "## Creiamo il modello"
      ]
    },
    {
      "cell_type": "code",
      "metadata": {
        "colab": {
          "base_uri": "https://localhost:8080/"
        },
        "id": "FfsfUwGDHWwV",
        "outputId": "7c4f378b-7484-4d3b-8ceb-862cbf0f35b8"
      },
      "source": [
        "from keras.layers import Conv2D, Flatten, Dropout\n",
        "\n",
        "model = Sequential()\n",
        "\n",
        "model.add(Conv2D(filters=64, kernel_size=2, padding='same', activation='relu', input_shape=(28,28,1)))\n",
        "model.add(Flatten())\n",
        "model.add(Dense(128, activation='relu'))\n",
        "model.add(Dropout(0.5))\n",
        "model.add(Dense(10, activation='softmax'))\n",
        "\n",
        "model.summary()"
      ],
      "execution_count": 6,
      "outputs": [
        {
          "output_type": "stream",
          "text": [
            "Model: \"sequential\"\n",
            "_________________________________________________________________\n",
            "Layer (type)                 Output Shape              Param #   \n",
            "=================================================================\n",
            "conv2d (Conv2D)              (None, 28, 28, 64)        320       \n",
            "_________________________________________________________________\n",
            "flatten (Flatten)            (None, 50176)             0         \n",
            "_________________________________________________________________\n",
            "dense (Dense)                (None, 128)               6422656   \n",
            "_________________________________________________________________\n",
            "dropout (Dropout)            (None, 128)               0         \n",
            "_________________________________________________________________\n",
            "dense_1 (Dense)              (None, 10)                1290      \n",
            "=================================================================\n",
            "Total params: 6,424,266\n",
            "Trainable params: 6,424,266\n",
            "Non-trainable params: 0\n",
            "_________________________________________________________________\n"
          ],
          "name": "stdout"
        }
      ]
    },
    {
      "cell_type": "code",
      "metadata": {
        "id": "Oyxkq3SVKpEp"
      },
      "source": [
        "model.compile(loss='categorical_crossentropy', optimizer='adam',metrics=['accuracy'])"
      ],
      "execution_count": 7,
      "outputs": []
    },
    {
      "cell_type": "code",
      "metadata": {
        "colab": {
          "base_uri": "https://localhost:8080/"
        },
        "id": "jfkSUvdmLBZO",
        "outputId": "f4357724-f962-4aa9-b8b9-9c4e799362df"
      },
      "source": [
        "model.fit(X_train, y_train, batch_size=512, validation_split=0.2, epochs=10)"
      ],
      "execution_count": 8,
      "outputs": [
        {
          "output_type": "stream",
          "text": [
            "Epoch 1/10\n",
            "94/94 [==============================] - 34s 23ms/step - loss: 0.9616 - accuracy: 0.6632 - val_loss: 0.3850 - val_accuracy: 0.8589\n",
            "Epoch 2/10\n",
            "94/94 [==============================] - 2s 18ms/step - loss: 0.4198 - accuracy: 0.8551 - val_loss: 0.3230 - val_accuracy: 0.8825\n",
            "Epoch 3/10\n",
            "94/94 [==============================] - 2s 18ms/step - loss: 0.3511 - accuracy: 0.8780 - val_loss: 0.2972 - val_accuracy: 0.8898\n",
            "Epoch 4/10\n",
            "94/94 [==============================] - 2s 18ms/step - loss: 0.3082 - accuracy: 0.8903 - val_loss: 0.2824 - val_accuracy: 0.8976\n",
            "Epoch 5/10\n",
            "94/94 [==============================] - 2s 18ms/step - loss: 0.2750 - accuracy: 0.9030 - val_loss: 0.2704 - val_accuracy: 0.9014\n",
            "Epoch 6/10\n",
            "94/94 [==============================] - 2s 18ms/step - loss: 0.2517 - accuracy: 0.9098 - val_loss: 0.2626 - val_accuracy: 0.9049\n",
            "Epoch 7/10\n",
            "94/94 [==============================] - 2s 18ms/step - loss: 0.2379 - accuracy: 0.9141 - val_loss: 0.2611 - val_accuracy: 0.9051\n",
            "Epoch 8/10\n",
            "94/94 [==============================] - 2s 18ms/step - loss: 0.2225 - accuracy: 0.9186 - val_loss: 0.2564 - val_accuracy: 0.9080\n",
            "Epoch 9/10\n",
            "94/94 [==============================] - 2s 18ms/step - loss: 0.2123 - accuracy: 0.9240 - val_loss: 0.2576 - val_accuracy: 0.9081\n",
            "Epoch 10/10\n",
            "94/94 [==============================] - 2s 18ms/step - loss: 0.1922 - accuracy: 0.9299 - val_loss: 0.2574 - val_accuracy: 0.9097\n"
          ],
          "name": "stdout"
        },
        {
          "output_type": "execute_result",
          "data": {
            "text/plain": [
              "<tensorflow.python.keras.callbacks.History at 0x7f03300a36d0>"
            ]
          },
          "metadata": {
            "tags": []
          },
          "execution_count": 8
        }
      ]
    },
    {
      "cell_type": "markdown",
      "metadata": {
        "id": "O-d9OoTuN_wt"
      },
      "source": [
        "vediamo sul test set\n"
      ]
    },
    {
      "cell_type": "code",
      "metadata": {
        "colab": {
          "base_uri": "https://localhost:8080/"
        },
        "id": "Q57DQtW8LJr_",
        "outputId": "016c721b-b087-4f6b-d01e-71285eb4470d"
      },
      "source": [
        "model.evaluate(X_test, y_test)"
      ],
      "execution_count": 9,
      "outputs": [
        {
          "output_type": "stream",
          "text": [
            "313/313 [==============================] - 1s 2ms/step - loss: 0.2774 - accuracy: 0.9011\n"
          ],
          "name": "stdout"
        },
        {
          "output_type": "execute_result",
          "data": {
            "text/plain": [
              "[0.27740466594696045, 0.9010999798774719]"
            ]
          },
          "metadata": {
            "tags": []
          },
          "execution_count": 9
        }
      ]
    },
    {
      "cell_type": "markdown",
      "metadata": {
        "id": "oLkOSAMSuaRX"
      },
      "source": [
        "## Utilizzare uno strato di Pooling\n",
        "\n",
        "lo strato di pooling semplifica la matrice e il modello riducendo l'overfitting "
      ]
    },
    {
      "cell_type": "code",
      "metadata": {
        "id": "s4qt3JmaOF4b",
        "colab": {
          "base_uri": "https://localhost:8080/"
        },
        "outputId": "7b62f55f-ea92-4d8a-f903-d268751d56de"
      },
      "source": [
        "from keras.layers import MaxPooling2D\n",
        "\n",
        "model = Sequential()\n",
        "\n",
        "model.add(Conv2D(filters=64, kernel_size=2, padding='same', activation='relu', input_shape=(28,28,1)))\n",
        "model.add(MaxPooling2D(pool_size=2,strides=2))\n",
        "model.add(Dropout(0.3))\n",
        "model.add(Conv2D(filters=32, kernel_size=2,padding='same',activation='relu'))\n",
        "model.add(MaxPooling2D(pool_size=2,strides=2))\n",
        "model.add(Dropout(0.3))\n",
        "model.add(Flatten())\n",
        "model.add(Dense(256, activation='relu'))\n",
        "model.add(Dropout(0.5))\n",
        "model.add(Dense(10, activation='softmax'))\n",
        "\n",
        "model.summary()"
      ],
      "execution_count": 22,
      "outputs": [
        {
          "output_type": "stream",
          "text": [
            "Model: \"sequential_6\"\n",
            "_________________________________________________________________\n",
            "Layer (type)                 Output Shape              Param #   \n",
            "=================================================================\n",
            "conv2d_10 (Conv2D)           (None, 28, 28, 64)        320       \n",
            "_________________________________________________________________\n",
            "max_pooling2d_8 (MaxPooling2 (None, 14, 14, 64)        0         \n",
            "_________________________________________________________________\n",
            "dropout_8 (Dropout)          (None, 14, 14, 64)        0         \n",
            "_________________________________________________________________\n",
            "conv2d_11 (Conv2D)           (None, 14, 14, 32)        8224      \n",
            "_________________________________________________________________\n",
            "max_pooling2d_9 (MaxPooling2 (None, 7, 7, 32)          0         \n",
            "_________________________________________________________________\n",
            "dropout_9 (Dropout)          (None, 7, 7, 32)          0         \n",
            "_________________________________________________________________\n",
            "flatten_3 (Flatten)          (None, 1568)              0         \n",
            "_________________________________________________________________\n",
            "dense_6 (Dense)              (None, 256)               401664    \n",
            "_________________________________________________________________\n",
            "dropout_10 (Dropout)         (None, 256)               0         \n",
            "_________________________________________________________________\n",
            "dense_7 (Dense)              (None, 10)                2570      \n",
            "=================================================================\n",
            "Total params: 412,778\n",
            "Trainable params: 412,778\n",
            "Non-trainable params: 0\n",
            "_________________________________________________________________\n"
          ],
          "name": "stdout"
        }
      ]
    },
    {
      "cell_type": "code",
      "metadata": {
        "id": "PJ6Oy5fhvjdj"
      },
      "source": [
        "model.compile(loss='categorical_crossentropy',optimizer='adam',metrics=['accuracy'])"
      ],
      "execution_count": 23,
      "outputs": []
    },
    {
      "cell_type": "markdown",
      "metadata": {
        "id": "65jSKxwkwrmD"
      },
      "source": [
        "introduciamo l'early stopping, server per fermare l'elaborazione se per un numero X di epoche non ho ottenuto un miglioramento di almeno Y, posso anche decidere se utilizzare l'ultimo step o lo step migliore eventuale di epoche precedenti"
      ]
    },
    {
      "cell_type": "code",
      "metadata": {
        "colab": {
          "base_uri": "https://localhost:8080/"
        },
        "id": "VpBpLvU9wo-C",
        "outputId": "9709136a-04b7-4748-bcde-6f00e71bb1d0"
      },
      "source": [
        "from keras.callbacks import History,EarlyStopping\n",
        "\n",
        "history = History()\n",
        "earlyStopping = EarlyStopping(min_delta=0.001, patience=5)\n",
        "\n",
        "model.fit(X_train, y_train, batch_size=512, validation_split=0.2, epochs=100, callbacks=[history, earlyStopping])\n"
      ],
      "execution_count": 24,
      "outputs": [
        {
          "output_type": "stream",
          "text": [
            "Epoch 1/100\n",
            "94/94 [==============================] - 2s 21ms/step - loss: 1.2544 - accuracy: 0.5492 - val_loss: 0.5229 - val_accuracy: 0.8069\n",
            "Epoch 2/100\n",
            "94/94 [==============================] - 2s 19ms/step - loss: 0.5309 - accuracy: 0.8037 - val_loss: 0.4258 - val_accuracy: 0.8481\n",
            "Epoch 3/100\n",
            "94/94 [==============================] - 2s 19ms/step - loss: 0.4535 - accuracy: 0.8342 - val_loss: 0.3788 - val_accuracy: 0.8660\n",
            "Epoch 4/100\n",
            "94/94 [==============================] - 2s 19ms/step - loss: 0.4078 - accuracy: 0.8515 - val_loss: 0.3483 - val_accuracy: 0.8737\n",
            "Epoch 5/100\n",
            "94/94 [==============================] - 2s 19ms/step - loss: 0.3815 - accuracy: 0.8601 - val_loss: 0.3319 - val_accuracy: 0.8806\n",
            "Epoch 6/100\n",
            "94/94 [==============================] - 2s 19ms/step - loss: 0.3587 - accuracy: 0.8696 - val_loss: 0.3211 - val_accuracy: 0.8842\n",
            "Epoch 7/100\n",
            "94/94 [==============================] - 2s 19ms/step - loss: 0.3403 - accuracy: 0.8772 - val_loss: 0.3091 - val_accuracy: 0.8884\n",
            "Epoch 8/100\n",
            "94/94 [==============================] - 2s 19ms/step - loss: 0.3333 - accuracy: 0.8777 - val_loss: 0.2958 - val_accuracy: 0.8919\n",
            "Epoch 9/100\n",
            "94/94 [==============================] - 2s 19ms/step - loss: 0.3107 - accuracy: 0.8884 - val_loss: 0.2889 - val_accuracy: 0.8933\n",
            "Epoch 10/100\n",
            "94/94 [==============================] - 2s 19ms/step - loss: 0.3117 - accuracy: 0.8849 - val_loss: 0.2759 - val_accuracy: 0.8996\n",
            "Epoch 11/100\n",
            "94/94 [==============================] - 2s 19ms/step - loss: 0.2995 - accuracy: 0.8903 - val_loss: 0.2784 - val_accuracy: 0.8974\n",
            "Epoch 12/100\n",
            "94/94 [==============================] - 2s 19ms/step - loss: 0.2934 - accuracy: 0.8924 - val_loss: 0.2721 - val_accuracy: 0.9004\n",
            "Epoch 13/100\n",
            "94/94 [==============================] - 2s 19ms/step - loss: 0.2880 - accuracy: 0.8944 - val_loss: 0.2598 - val_accuracy: 0.9038\n",
            "Epoch 14/100\n",
            "94/94 [==============================] - 2s 19ms/step - loss: 0.2734 - accuracy: 0.8999 - val_loss: 0.2623 - val_accuracy: 0.9059\n",
            "Epoch 15/100\n",
            "94/94 [==============================] - 2s 19ms/step - loss: 0.2736 - accuracy: 0.8980 - val_loss: 0.2549 - val_accuracy: 0.9053\n",
            "Epoch 16/100\n",
            "94/94 [==============================] - 2s 19ms/step - loss: 0.2608 - accuracy: 0.9053 - val_loss: 0.2494 - val_accuracy: 0.9084\n",
            "Epoch 17/100\n",
            "94/94 [==============================] - 2s 19ms/step - loss: 0.2582 - accuracy: 0.9060 - val_loss: 0.2476 - val_accuracy: 0.9067\n",
            "Epoch 18/100\n",
            "94/94 [==============================] - 2s 19ms/step - loss: 0.2551 - accuracy: 0.9063 - val_loss: 0.2407 - val_accuracy: 0.9108\n",
            "Epoch 19/100\n",
            "94/94 [==============================] - 2s 19ms/step - loss: 0.2507 - accuracy: 0.9070 - val_loss: 0.2411 - val_accuracy: 0.9122\n",
            "Epoch 20/100\n",
            "94/94 [==============================] - 2s 19ms/step - loss: 0.2530 - accuracy: 0.9074 - val_loss: 0.2386 - val_accuracy: 0.9135\n",
            "Epoch 21/100\n",
            "94/94 [==============================] - 2s 19ms/step - loss: 0.2455 - accuracy: 0.9089 - val_loss: 0.2361 - val_accuracy: 0.9133\n",
            "Epoch 22/100\n",
            "94/94 [==============================] - 2s 19ms/step - loss: 0.2353 - accuracy: 0.9115 - val_loss: 0.2327 - val_accuracy: 0.9140\n",
            "Epoch 23/100\n",
            "94/94 [==============================] - 2s 19ms/step - loss: 0.2344 - accuracy: 0.9131 - val_loss: 0.2332 - val_accuracy: 0.9163\n",
            "Epoch 24/100\n",
            "94/94 [==============================] - 2s 19ms/step - loss: 0.2265 - accuracy: 0.9147 - val_loss: 0.2318 - val_accuracy: 0.9163\n",
            "Epoch 25/100\n",
            "94/94 [==============================] - 2s 19ms/step - loss: 0.2280 - accuracy: 0.9139 - val_loss: 0.2239 - val_accuracy: 0.9211\n",
            "Epoch 26/100\n",
            "94/94 [==============================] - 2s 19ms/step - loss: 0.2197 - accuracy: 0.9177 - val_loss: 0.2215 - val_accuracy: 0.9183\n",
            "Epoch 27/100\n",
            "94/94 [==============================] - 2s 19ms/step - loss: 0.2165 - accuracy: 0.9204 - val_loss: 0.2245 - val_accuracy: 0.9181\n",
            "Epoch 28/100\n",
            "94/94 [==============================] - 2s 19ms/step - loss: 0.2115 - accuracy: 0.9216 - val_loss: 0.2261 - val_accuracy: 0.9171\n",
            "Epoch 29/100\n",
            "94/94 [==============================] - 2s 19ms/step - loss: 0.2090 - accuracy: 0.9224 - val_loss: 0.2192 - val_accuracy: 0.9193\n",
            "Epoch 30/100\n",
            "94/94 [==============================] - 2s 19ms/step - loss: 0.2058 - accuracy: 0.9234 - val_loss: 0.2176 - val_accuracy: 0.9220\n",
            "Epoch 31/100\n",
            "94/94 [==============================] - 2s 19ms/step - loss: 0.2058 - accuracy: 0.9231 - val_loss: 0.2185 - val_accuracy: 0.9209\n",
            "Epoch 32/100\n",
            "94/94 [==============================] - 2s 19ms/step - loss: 0.2018 - accuracy: 0.9264 - val_loss: 0.2174 - val_accuracy: 0.9223\n",
            "Epoch 33/100\n",
            "94/94 [==============================] - 2s 19ms/step - loss: 0.1973 - accuracy: 0.9273 - val_loss: 0.2169 - val_accuracy: 0.9219\n",
            "Epoch 34/100\n",
            "94/94 [==============================] - 2s 19ms/step - loss: 0.1972 - accuracy: 0.9249 - val_loss: 0.2149 - val_accuracy: 0.9245\n",
            "Epoch 35/100\n",
            "94/94 [==============================] - 2s 19ms/step - loss: 0.1935 - accuracy: 0.9284 - val_loss: 0.2195 - val_accuracy: 0.9210\n",
            "Epoch 36/100\n",
            "94/94 [==============================] - 2s 19ms/step - loss: 0.1909 - accuracy: 0.9294 - val_loss: 0.2243 - val_accuracy: 0.9170\n",
            "Epoch 37/100\n",
            "94/94 [==============================] - 2s 19ms/step - loss: 0.1860 - accuracy: 0.9295 - val_loss: 0.2154 - val_accuracy: 0.9219\n",
            "Epoch 38/100\n",
            "94/94 [==============================] - 2s 19ms/step - loss: 0.1802 - accuracy: 0.9329 - val_loss: 0.2183 - val_accuracy: 0.9205\n",
            "Epoch 39/100\n",
            "94/94 [==============================] - 2s 19ms/step - loss: 0.1787 - accuracy: 0.9325 - val_loss: 0.2187 - val_accuracy: 0.9222\n"
          ],
          "name": "stdout"
        },
        {
          "output_type": "execute_result",
          "data": {
            "text/plain": [
              "<tensorflow.python.keras.callbacks.History at 0x7f02b217db50>"
            ]
          },
          "metadata": {
            "tags": []
          },
          "execution_count": 24
        }
      ]
    },
    {
      "cell_type": "code",
      "metadata": {
        "colab": {
          "base_uri": "https://localhost:8080/"
        },
        "id": "kumm5-ItxWtA",
        "outputId": "fc1c6139-5d65-41d1-a3d0-501f4dd85090"
      },
      "source": [
        "model.evaluate(X_test, y_test)"
      ],
      "execution_count": 25,
      "outputs": [
        {
          "output_type": "stream",
          "text": [
            "313/313 [==============================] - 1s 3ms/step - loss: 0.2313 - accuracy: 0.9172\n"
          ],
          "name": "stdout"
        },
        {
          "output_type": "execute_result",
          "data": {
            "text/plain": [
              "[0.23126330971717834, 0.9172000288963318]"
            ]
          },
          "metadata": {
            "tags": []
          },
          "execution_count": 25
        }
      ]
    },
    {
      "cell_type": "code",
      "metadata": {
        "id": "oMZkhLrXyEMb"
      },
      "source": [
        ""
      ],
      "execution_count": null,
      "outputs": []
    }
  ]
}